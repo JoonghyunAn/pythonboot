{
 "cells": [
  {
   "cell_type": "markdown",
   "metadata": {},
   "source": [
    "# 데이터 수집개요\n",
    "\n",
    "## 데이터 선정\n",
    "\n",
    "- 요구사항 분석을 통해 분석목표가 정해졌다면 어떤 데이터를 수집할지 선정해야 한다.\n",
    "    - 수집 대상 데이터는 그 목적과 직접적 관련이 있는 데이터과 간접적 관련이 있는 데이터가 있다.\n",
    "    - 예: 축구 승리에 미치는 영향을 주는 요인들\n",
    "        - **축구와 직접 관련된 데이터(요인)**\n",
    "            - 축구 기록 관련: 골, 득점 기대수치, 볼 점유율, 패스 성공율, 슈팅 시도, 태클 시도 및 성공등\n",
    "            - 선수 관련: 연봉, 나이, 경력, 최근 경기 성적등\n",
    "            - 기타: 홈 원정 여부, 경기 시작 시간, 최근 5경기 결과, 직전 경기 결과 등\n",
    "        - **간접 관련된 데이터(요인)**\n",
    "            - 경기 당일 날씨`\n",
    "            - 관중수, 응원단 수\n",
    "            "
   ]
  },
  {
   "cell_type": "code",
   "execution_count": 1,
   "metadata": {},
   "outputs": [
    {
     "data": {
      "text/plain": [
       "2"
      ]
     },
     "execution_count": 1,
     "metadata": {},
     "output_type": "execute_result"
    }
   ],
   "source": [
    "1+1"
   ]
  },
  {
   "cell_type": "markdown",
   "metadata": {},
   "source": [
    "## 데이터 수집 방법 선정\n",
    "- 수집할 데이터를 선정했다면 그 다음은 어떻게 데이터를 수집할지 그 방법을 정해야 한다.\n",
    "- **어디서 구할 것인가?**\n",
    "    - 사내 데이터베이스\n",
    "    - 외부 데이터\n",
    "        - 외부 데이터일 경우 어디서 구할 수 있는지 조사해야한다.\n",
    "            - 공개 데이터셋\n",
    "            - 유료 데이터셋\n",
    "            - 데이터 크롤링(crawling)\n",
    "                - 크롤링시 법적 문제는 없는지 확인해야 한다.\n",
    "- **수집할 데이터의 양은 충분한지 확인**\n",
    "    - 의미 있는 결과를 얻으려면 다양한 패턴의 데이터를 의미 있는 양만큼 수집해야 한다.\n",
    "    - 수집 데이터가 한쪽에 편향 되지 않아야 한다. \n",
    "        - 스팸메일을 분석하기 위한 데이터를 수집할 때 정상메일이 스팸메일보다 훨씬 만다면?\n",
    "        - 지하철 호선별 평균이용량을 수집하는데 1호선은 7월, 2호선은 2월, 3호선은 12월 같이 다른 기준으로 데이터를 수집한다면?\n",
    "- **수집할 데이터가 신뢰할만 한 데이터인지 확인 필요**\n",
    "    - 4차산업혁명, 인터넷, SNS 발달로 데이터의 양이 급증가하여 데이터 수집이 쉬워짐.\n",
    "    - 쉬어진 만큼 신뢰하기 힘든 데이터들도 급증함. 그래서 **수집한 데이터가 신뢰할 만한 데이터인지 구별하는 것이 중요해졌다.**\n",
    "        - 특히 출처가 불분명한 데이터 (커뮤니티 글, 유튜브 영상, 지식IN 등)일 경우 확인이 필요함."
   ]
  },
  {
   "cell_type": "markdown",
   "metadata": {},
   "source": [
    "## 데이터 수집 주기\n",
    "- 일회성인지 주기적으로 수집해야 하는 데이터인지에 따라 방법과 도구가 달라질 수 있다.\n",
    "- **일회성 데이터**\n",
    "    - 수집한 데이터를 csv, txt등의 파일형식으로 저장하여 활용한다.\n",
    "    - 변하지 않는 데이터셋으로 국가나 도시정보등이 있다.\n",
    "- **주기적으로 수집이 필요한 데이터**\n",
    "    - 자동화 시스템 구축을 하여 데이터베이스에 데이터를 주기적으로 수집, 저장한다.\n",
    "    - 변하는 데이터로 대부분이 여기에 속한다."
   ]
  },
  {
   "cell_type": "code",
   "execution_count": null,
   "metadata": {},
   "outputs": [],
   "source": []
  },
  {
   "cell_type": "markdown",
   "metadata": {},
   "source": [
    "## 데이터 수집에 도움이 되는 사이트\n",
    "\n",
    "- **국가 통계포털**\n",
    "    - https://kosis.kr\n",
    "    - 통계청에서 관리하는 공공데이터 포털로 다양한 카테고리의 국가 통계데이터를 제공한다.\n",
    "\n",
    "- **공공데이터 포털**\n",
    "    - https://www.data.go.kr\n",
    "    - 행정 안전부에서 제공하는 정부 데이터 포털\n",
    "- **Kaggle**\n",
    "    - https://kaggle.com\n",
    "    - 데이터과학 관련 경진대회 플랫폼\n",
    "    - 다양한 데이터들을 제공한다.\n",
    "- **구글 데이터셋 서치**\n",
    "    - https://datasetsearch.research.google.com\n",
    "    - 구글에서 제공하는 데이터셋 검색 사이트\n",
    "    - 키워드를 이용해 다양한 데이터셋을 검색하고 다운로드 받을 수 있다.\n",
    "- **AI Hub**\n",
    "    - https://aihub.or.kr\n",
    "    - 국내외 기관/기업에서 추진한 지능정보산업 인프라 조성사업에서 공개한 AI 학습용 데이터셋들을 제공한다.\n",
    "- **Roboflow Universe**\n",
    "    - https://universe.roboflow.com/\n",
    "    - Roboflow 라는 인공지능 회사에서 운영하는 데이터 저장소 사이트로 컴퓨터비전 관련 데이터셋을 주로 제공한다.\n",
    "- 기타\n",
    "    - **지자체**: 서울시 열린 데이터광장, 경기 데이터 드림\n",
    "    - **금융관련**: 한국거래소, 금융통계정보시스템등\n",
    "    - **영화관련**: 영화진흥위원회\n",
    "    - **대중교통**: 국가교통데이터베이스, 교통카드 빅데이터 통합정보시스템등    \n",
    "    - **관광관련**: 한국 관광 데이터랩등\n",
    "    - **날씨정보**: 기상청 기상자료 개방포털, 네이버 날씨"
   ]
  },
  {
   "cell_type": "code",
   "execution_count": null,
   "metadata": {},
   "outputs": [],
   "source": [
    "# 다음주 크롤링 프로젝트 진행 예정인데, # 무슨 데이터를 수집할지에 대한 고민"
   ]
  },
  {
   "cell_type": "markdown",
   "metadata": {},
   "source": [
    "## [크롬개발자 도구](https://developers.google.com/web/tools/chrome-devtools/)"
   ]
  },
  {
   "cell_type": "markdown",
   "metadata": {},
   "source": [
    "# BeautifulSoup\n",
    "- Markup 언어 parsing 라이브러리\n",
    "    - HTML이나 XML 문서 내에서 원하는 정보를 가져오기 위한 파이썬 라이브러리.\n",
    "- https://www.crummy.com/software/BeautifulSoup/\n",
    "- https://www.crummy.com/software/BeautifulSoup/bs4/doc/\n",
    "- 설치\n",
    "    - conda install beautifulsoup4\n",
    "    - pip install beautifulsoup4\n"
   ]
  },
  {
   "cell_type": "markdown",
   "metadata": {},
   "source": [
    "## 코딩 패턴\n",
    "1. 조회할 HTML내용을 전달하여 BeautifulSoup 객체 생성 \n",
    "1. BeautifulSoup객체의 메소드들을 이용해 문서내에서 필요한 정보 조회\n",
    "    - 태그이름과 태그 속성으로 조회\n",
    "    - css selector를 이용해 조회\n",
    "    - . 표기법을 이용한 탐색(Tree 구조 순서대로 탐색)"
   ]
  },
  {
   "cell_type": "markdown",
   "metadata": {},
   "source": [
    "## BeautifulSoup 객체 생성\n",
    "- BeautifulSoup(html str [, 파서])\n",
    "    - 매개변수\n",
    "        1. 정보를 조회할 html을 string으로 전달\n",
    "        2. 파서\n",
    "            - html.parser(기본파서)\n",
    "            - lxml : 매우 빠르다. html, xml 파싱 가능(xml 파싱은 lxml만 가능)\n",
    "                - 사용시 install 필요 \n",
    "                - `conda install lxml`\n",
    "                - `pip install lxml`\n",
    "                - install 후 커널 restart 시킨다."
   ]
  },
  {
   "cell_type": "code",
   "execution_count": 63,
   "metadata": {},
   "outputs": [
    {
     "name": "stdout",
     "output_type": "stream",
     "text": [
      "<!-- HTML(5) 문서 선언 .. 주석입니다... -->\n",
      "<!doctype html>\n",
      "<!-- root 태그: HTML -->\n",
      "<html>\n",
      "    <!-- head: 문서의 정보들 -->\n",
      "    <head>\n",
      "        <title> 우리동물원 sogae</title>\n",
      "        <meta charset = \"UTF-8\">\n",
      "        <style>  \n",
      "            h1 {\n",
      "                background:black;\n",
      "                color:white;\n",
      "            }\n",
      "            div#animal1{  /*div 중 animal1인 엘레멘트*/\n",
      "                background:green; \n",
      "                color:aquamarine\n",
      "\n",
      "            }\n",
      "           div.animal_info{/*div 중 class = 'animal_info'인 elements*\n",
      "<!-- HTML(5) 문서 선언 .. 주석입니다... -->\n",
      "<!doctype html>\n",
      "<!-- root 태그: HTML -->\n",
      "<html>\n",
      "    <!-- head: 문서의 정보들 -->\n",
      "    <head>\n",
      "        <title> 우리동물원 sogae</title>\n",
      "        <meta charset = \"UTF-8\">\n",
      "        <style>  \n",
      "            h1 {\n",
      "                background:black;\n",
      "                color:white;\n",
      "            }\n",
      "            div#animal1{  /*div 중 animal1인 엘레멘트*/\n",
      "                background:green; \n",
      "                color:aquamarine\n",
      "\n",
      "            }\n",
      "           div.animal_info{/*div 중 class = 'animal_info'인 elements*\n"
     ]
    }
   ],
   "source": [
    "from bs4 import BeautifulSoup\n",
    "# beautifulsoup instance 생성. html 문서 내용 str으로 전달 \n",
    "with open(\"example.html\", \"rt\", encoding= 'utf-8') as fr: \n",
    "    html_doc = fr.read()\n",
    "print(html_doc[:500])\n",
    "\n",
    "from bs4 import BeautifulSoup\n",
    "with open(\"example.html\",\"rt\", encoding = 'utf-8') as fr:\n",
    "    html_doc = fr.read()\n",
    "print(html_doc[:500])\n",
    "\n"
   ]
  },
  {
   "cell_type": "code",
   "execution_count": 64,
   "metadata": {},
   "outputs": [
    {
     "name": "stdout",
     "output_type": "stream",
     "text": [
      "<!-- HTML(5) 문서 선언 .. 주석입니다... -->\n",
      "<!DOCTYPE html>\n",
      "<!-- root 태그: HTML -->\n",
      "<html>\n",
      " <!-- head: 문서의 정보들 -->\n",
      " <head>\n",
      "  <title>\n",
      "   우리동물원 sogae\n",
      "  </title>\n",
      "  <meta charset=\"utf-8\"/>\n",
      "  <style>\n",
      "   h1 {\n",
      "                background:black;\n",
      "                color:white;\n",
      "            }\n",
      "            div#animal1{  /*div 중 animal1인 엘레멘트*/\n",
      "                background:green; \n",
      "                color:aquamarine\n",
      "\n",
      "            }\n",
      "           div.animal_info{/*div 중 class = 'animal_info'인 elements*/\n",
      "            border:2px solid rgb(24, 150, 223);\n",
      "            width: 400px;\n",
      "            padding: 30px;\n",
      "            margin: 5px;\n",
      "\n",
      "           }\n",
      "           *.name{  /* '*'' 모든 태그들, class/id 연결해서 지정 시 생략가능 */\n",
      "            font-size:1.2em; /*em : 상대적 크기. 기본 size에 1.2배*/\n",
      "            font-weight: bold;\n",
      "           }\n",
      "           a:hover{\n",
      "            color:red;\n",
      "           }\n",
      "           a:nth-child(2n){/*a 중 2의 배수번째 자식 태그인 a elements*/\n",
      "                font size:1.5em;\n",
      "\n",
      "           }\n",
      "  </style>\n",
      " </head>\n",
      " <!--  body : 문서 내용 -->\n",
      " <body>\n",
      "  <h1>\n",
      "   동물목록\n",
      "  </h1>\n",
      "  <!-- h1 ~ h6 : 제목태그 -->\n",
      "  <!-- div: divide -->\n",
      "  <div class=\"animal_info\" id=\"animal1\">\n",
      "   <div class=\"name\">\n",
      "    사자\n",
      "   </div>\n",
      "   <div>\n",
      "    3마리\n",
      "   </div>\n",
      "  </div>\n",
      "  <div class=\"animal_info\">\n",
      "   <div class=\"name\">\n",
      "    호랑이\n",
      "   </div>\n",
      "   <div>\n",
      "    10마리\n",
      "   </div>\n",
      "  </div>\n",
      "  <div class=\"animal_info\">\n",
      "   <div class=\"name\">\n",
      "    곰\n",
      "   </div>\n",
      "   <div>\n",
      "    5마리\n",
      "   </div>\n",
      "  </div>\n",
      "  <div class=\"animal_info\">\n",
      "   <div class=\"name\">\n",
      "    낙타\n",
      "   </div>\n",
      "   <div>\n",
      "    6마리\n",
      "   </div>\n",
      "  </div>\n",
      "  <!-- alt + 멀티 셀렉트 가능  -->\n",
      "  우리 동물원에는\n",
      "  <span class=\"name\">\n",
      "   기린\n",
      "  </span>\n",
      "  도 30 마리 있습니다.\n",
      "  <h1>\n",
      "   다른 동물원 URL\n",
      "  </h1>\n",
      "  <!-- ul(unordered list)/ol(ordered list) : 목록태그. li: item들 지정 ol: 순서 붙여줌..   -->\n",
      "  <!-- a: 링크, href 속성: 이동할 url을 지정 -->\n",
      "  <ul>\n",
      "   <li>\n",
      "    <a href=\"https://grandpark.seoul.go.kr/main/ko.do\">\n",
      "     서울 대공원\n",
      "    </a>\n",
      "   </li>\n",
      "   <li>\n",
      "    <a href=\"https://www.everland.com/web/everland/favorite/zootopia/index.html\">\n",
      "     에버랜드\n",
      "    </a>\n",
      "   </li>\n",
      "   <li>\n",
      "    <a href=\" https://www.coexaqua.com\">\n",
      "     코엑스아쿠아리움\n",
      "    </a>\n",
      "   </li>\n",
      "  </ul>\n",
      "  <a href=\"https://www.naver.com\">\n",
      "   네이버\n",
      "  </a>\n",
      "  <a href=\"https://www.google.com\">\n",
      "   Google\n",
      "  </a>\n",
      "  <a href=\"https://www.daum.net\">\n",
      "   다음\n",
      "  </a>\n",
      "  <br/>\n",
      "  <img src=\"data:image/jpeg;base64,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\"/>\n",
      "  <!-- -->\n",
      "  <!-- image의 url을 src에 지정, width=\"500px\" 이런 식으로 크기 조정 가능 -->\n",
      "  <br/>\n",
      "  꼬부기는 없습니다.\n",
      " </body>\n",
      "</html>\n",
      "\n",
      "<class 'str'>\n"
     ]
    }
   ],
   "source": [
    "# beautifulsoup instance 생성. html 문서내용을 str으로 전달 \n",
    "soup = BeautifulSoup(html_doc, \"lxml\") # lxml 생략하면 기본 parser 사용하게 되는 것 \n",
    "# 읽은 문서를 출력 \n",
    "#print(soup.prettify())\n",
    "print(BeautifulSoup(html_doc, \"lxml\").prettify())\n",
    "print(type(html_doc))"
   ]
  },
  {
   "cell_type": "markdown",
   "metadata": {},
   "source": [
    "## 문서내에서 원하는 정보 검색\n",
    "\n",
    "### Tag 객체\n",
    "- 하나의 태그(element)에 대한 정보를 다루는 객체.\n",
    "    - BeautifulSoup 조회 메소드들의 **조회결과의 반환타입.**\n",
    "    - 조회 함수들이 찾은 Element가 하나일 경우 **Tag 객체를, 여러개일 경우 Tag 객체들을 담은 List(ResultSet)**를 반환한다.\n",
    "    - Tag 객체는 찾은 정보를 제공하는 메소드와 Attribute를 가지고 있다. 또 찾은 Tag가 하위 element를 가질 경우 찾을 수 있는 조회 메소드를 제공한다.\n",
    "- 주요 속성/메소드\n",
    "    - **태그의 속성값 조회**\n",
    "        - tag객체.get('속성명') \n",
    "        - tag객체\\['속성명'\\]\n",
    "        - ex) tag.get('href') 또는 tag\\['href'\\]\n",
    "    - **태그내 text값 조회**\n",
    "        - tag객체.get_text()\n",
    "        - tag객체.text\n",
    "        - ex) tag.get_text() 또는 tag.text\n",
    "    - **contents 속성**\n",
    "        - 조회한 태그의 모든 자식 요소들을 리스트로 반환\n",
    "        - ex) child_list = tag.contents"
   ]
  },
  {
   "cell_type": "markdown",
   "metadata": {},
   "source": [
    "## 조회 함수\n",
    "- **태그의 이름으로 조회**\n",
    "    - find_all()\n",
    "    - find()\n",
    "- **css selector를 이용해 조회**\n",
    "    - select(), select_one()\n",
    "- **`.` 표기법(dot notation)**\n",
    "    - dom tree 구조의 계층 순서대로 조회\n",
    "    - 위의 두방식으로 찾은 tag를 기준으로 그 주위의 element 들을 찾을 때 사용"
   ]
  },
  {
   "cell_type": "markdown",
   "metadata": {},
   "source": [
    "### 태그의 이름으로 조회\n",
    "- **find_all**(name=태그명, attrs={속성명:속성값, ..})\n",
    "   - 이름의 모든 태그 element들을 리스트에 담아 반환.\n",
    "   - 여러 이름의 태그를 조회할 경우 List에 태그명들을 묶어서 전달한다.\n",
    "   - 태그의 attribute 조건으로만 조회할 경우 name을 생략한다. \n",
    "- **find**(name=태그명, attrs={속성명:속성값})\n",
    "    - 이름의 태그중 첫번째 태그 element를 반환."
   ]
  },
  {
   "cell_type": "code",
   "execution_count": 80,
   "metadata": {},
   "outputs": [
    {
     "name": "stdout",
     "output_type": "stream",
     "text": [
      "<class 'bs4.element.ResultSet'> 12\n",
      "<class 'bs4.element.Tag'>\n"
     ]
    }
   ],
   "source": [
    "from bs4 import BeautifulSoup\n",
    "\n",
    "with open(\"example.html\", \"rt\", encoding =\"utf-8\") as fr:\n",
    "    html_doc = fr.read()\n",
    "\n",
    "soup = BeautifulSoup(html_doc,\"lxml\") # beautifulsoup instance 생성\n",
    "# find(), find_all()을 이용해서 elements 조회 #  elements(요소): 태그와 태그 내용, 속성 등을 모두 포함\n",
    "# div 요소들을 조회\n",
    "result = soup.find_all(\"div\")\n",
    "print(type(result),len(result)) # 여러 요소 조회 : resultset - list\n",
    "print(type(result[0])) # 개별요소: Tag\n"
   ]
  },
  {
   "cell_type": "code",
   "execution_count": 86,
   "metadata": {},
   "outputs": [
    {
     "name": "stdout",
     "output_type": "stream",
     "text": [
      "contents: 호랑이\n"
     ]
    }
   ],
   "source": [
    "result # tag가 아니고 elements를 묶어서 가져오는 것 \n",
    "tag1 = result[4]\n",
    "print(\"contents:\", tag1.text) # tag 안의 text들  # 엔터 사자 엔터 세마리 엔터 이렇게 읽어옴\n"
   ]
  },
  {
   "cell_type": "code",
   "execution_count": 10,
   "metadata": {},
   "outputs": [
    {
     "name": "stdout",
     "output_type": "stream",
     "text": [
      "<class 'bs4.element.Tag'>\n",
      "<div class=\"animal_info\" id=\"animal1\">\n",
      "<div class=\"name\">사자</div>\n",
      "<div>3마리</div>\n",
      "</div>\n",
      "\n"
     ]
    }
   ],
   "source": [
    "result = soup.find(\"div\") # find() : 한개만 찾기. 여러개가 있을 경우 첫번째 것만 찾아서 반환\n",
    "print(type(result))\n",
    "print(result)\n"
   ]
  },
  {
   "cell_type": "code",
   "execution_count": 13,
   "metadata": {},
   "outputs": [
    {
     "name": "stdout",
     "output_type": "stream",
     "text": [
      "content text: \n",
      "사자\n",
      "3마리\n",
      "\n",
      "content text: \n",
      "사자\n",
      "3마리\n",
      "\n",
      "attribute의 value: ['animal_info']\n",
      "attribute의 value: ['animal_info']\n"
     ]
    }
   ],
   "source": [
    "print(\"content text:\", result.text)\n",
    "print(\"content text:\", result.get_text())\n",
    "print(\"attribute의 value:\", result.get(\"class\")) # class의 속성은 animal_info입니다.\n",
    "print(\"attribute의 value:\", result[\"class\"]) # class의 속성은 animal_info입니다."
   ]
  },
  {
   "cell_type": "code",
   "execution_count": 14,
   "metadata": {},
   "outputs": [
    {
     "data": {
      "text/plain": [
       "['\\n', <div class=\"name\">사자</div>, '\\n', <div>3마리</div>, '\\n']"
      ]
     },
     "execution_count": 14,
     "metadata": {},
     "output_type": "execute_result"
    }
   ],
   "source": [
    "# 자식 elements\n",
    "result.contents # ['\\n', <div class=\"name\">사자</div>, '\\n', <div>3마리</div>, '\\n'] \\n도 하나의 자식노드"
   ]
  },
  {
   "cell_type": "code",
   "execution_count": 30,
   "metadata": {},
   "outputs": [
    {
     "name": "stdout",
     "output_type": "stream",
     "text": [
      "[<a href=\" https://www.coexaqua.com\">코엑스아쿠아리움</a>,\n",
      " <a href=\"https://www.naver.com\">네이버</a>,\n",
      " <a href=\"https://www.google.com\">Google</a>]\n"
     ]
    }
   ],
   "source": [
    "from pprint import pprint\n",
    "# find, find_all 이용해 조회\n",
    "result = soup.find_all(\"a\") #태그명으로 조회. 문서내의 모든 a를 다 찾기. \n",
    "result = soup.find_all([\"a\", \"span\"]) # a, span을 모두 찾기. \n",
    "result = soup.find_all(\"div\", attrs={\"class\":\"name\"}) # <div class = \"name\"># attrs는 태그의 속성까지 이용해서 찾겠다\n",
    "# result = soup.find_all(\"div\", attrs={\"class\": \"animal_info\"}, \"id\":\"animal1\")\n",
    "                    # <div class=\"animal_info\" id = \"animal1\">\n",
    "# result = soup.find_all(\"a\")\n",
    "result = soup.find_all(\"a\", attrs ={\"href\":\"https://www.coexaqua.com\"})\n",
    "import re\n",
    "result = soup.find_all(\"a\", attrs={\"href\":re.compile(r\".com$\")}) # 정규표현식을 이용해서 부분일치 조회\n",
    "pprint(result)"
   ]
  },
  {
   "cell_type": "code",
   "execution_count": 32,
   "metadata": {},
   "outputs": [
    {
     "name": "stdout",
     "output_type": "stream",
     "text": [
      "코엑스아쿠아리움  https://www.coexaqua.com\n",
      "네이버 https://www.naver.com\n",
      "Google https://www.google.com\n"
     ]
    }
   ],
   "source": [
    "result_list = []\n",
    "\n",
    "for tag in result:\n",
    "    print(tag.text, tag['href'])\n",
    "    result_list.append([tag.text,tag['href']])"
   ]
  },
  {
   "cell_type": "code",
   "execution_count": 33,
   "metadata": {},
   "outputs": [
    {
     "data": {
      "text/plain": [
       "[['코엑스아쿠아리움', ' https://www.coexaqua.com'],\n",
       " ['네이버', 'https://www.naver.com'],\n",
       " ['Google', 'https://www.google.com']]"
      ]
     },
     "execution_count": 33,
     "metadata": {},
     "output_type": "execute_result"
    }
   ],
   "source": [
    "result_list"
   ]
  },
  {
   "cell_type": "markdown",
   "metadata": {},
   "source": [
    "### CSS Selector를 이용해 조회\n",
    "- **select(selector='css셀렉터')**\n",
    "    - css 셀렉터와 일치하는 tag들을 반환한다.\n",
    "- **select_one(selector='css셀렉터')**\n",
    "    - css 셀렉터와 일치하는 tag를 반환한다.\n",
    "    - 일치하는 것이 여러개일 경우 첫번째 것 하나만 반환한다."
   ]
  },
  {
   "cell_type": "code",
   "execution_count": 59,
   "metadata": {},
   "outputs": [
    {
     "data": {
      "text/plain": [
       "[<a href=\"https://grandpark.seoul.go.kr/main/ko.do\">서울 대공원</a>,\n",
       " <a href=\"https://www.everland.com/web/everland/favorite/zootopia/index.html\">에버랜드</a>,\n",
       " <a href=\"https://www.naver.com\">네이버</a>,\n",
       " <a href=\"https://www.google.com\">Google</a>,\n",
       " <a href=\"https://www.daum.net\">다음</a>]"
      ]
     },
     "execution_count": 59,
     "metadata": {},
     "output_type": "execute_result"
    }
   ],
   "source": [
    "result = soup.select(\"a\")  # a 태그(요소)들\n",
    "result = soup.select(\"a, span\") # a와 span 태그들\n",
    "result = soup.select(\"ul a\") # ul의 자손인 a 태그들\n",
    "result = soup.select_one(\"#animal1\") # 모든 tag 중 id가 animal1인 태그, 앞에 # 생략된 것. div#animal1 로 하면 div 중 animal1인 태그\n",
    "result = soup.select(\"ul + div\") # div 중 ul의 다음 형제인 div 태그. \n",
    "result = soup.select(\"body > div:nth-child(3) > div:nth-child(2)\")\n",
    "result = soup.select(\"a\")\n",
    "result = soup.select(\"a[href]\")\n",
    "result = soup.select(\"a[href='https://www.naver.com']\") # href= \"https//www.naver.com\"인 \n",
    "result = soup.select('a[href$=\".do\"]') # href속성의 값이 .do로 끝나는 a 태그. \n",
    "result = soup.select(\"a[href^='https']\") # href 속성의 값이 https로 시작하는 a 태그 \n",
    "\n",
    "result"
   ]
  }
 ],
 "metadata": {
  "kernelspec": {
   "display_name": "Python 3 (ipykernel)",
   "language": "python",
   "name": "python3"
  },
  "language_info": {
   "codemirror_mode": {
    "name": "ipython",
    "version": 3
   },
   "file_extension": ".py",
   "mimetype": "text/x-python",
   "name": "python",
   "nbconvert_exporter": "python",
   "pygments_lexer": "ipython3",
   "version": "3.11.5"
  },
  "toc": {
   "base_numbering": 1,
   "nav_menu": {},
   "number_sections": false,
   "sideBar": false,
   "skip_h1_title": false,
   "title_cell": "Table of Contents",
   "title_sidebar": "Contents",
   "toc_cell": false,
   "toc_position": {},
   "toc_section_display": true,
   "toc_window_display": false
  },
  "varInspector": {
   "cols": {
    "lenName": 16,
    "lenType": 16,
    "lenVar": 40
   },
   "kernels_config": {
    "python": {
     "delete_cmd_postfix": "",
     "delete_cmd_prefix": "del ",
     "library": "var_list.py",
     "varRefreshCmd": "print(var_dic_list())"
    },
    "r": {
     "delete_cmd_postfix": ") ",
     "delete_cmd_prefix": "rm(",
     "library": "var_list.r",
     "varRefreshCmd": "cat(var_dic_list()) "
    }
   },
   "types_to_exclude": [
    "module",
    "function",
    "builtin_function_or_method",
    "instance",
    "_Feature"
   ],
   "window_display": false
  }
 },
 "nbformat": 4,
 "nbformat_minor": 2
}
