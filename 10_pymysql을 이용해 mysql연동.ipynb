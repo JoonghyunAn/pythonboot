{
 "cells": [
  {
   "cell_type": "markdown",
   "id": "a2f58681",
   "metadata": {},
   "source": [
    "# pymysql\n",
    "\n",
    "-   파이썬에서 MySQL, MariaDB DBMS와 연동하는 다양한 함수를 제공하는 모듈\n",
    "-   Python [DB API 2.0](http://www.python.org/dev/peps/pep-0249) 표준을 따른다.\n",
    "-   https://github.com/PyMySQL/PyMySQL/\n",
    "-   https://pymysql.readthedocs.io/en/latest/\n"
   ]
  },
  {
   "cell_type": "markdown",
   "id": "43cccb80",
   "metadata": {},
   "source": [
    "# 설치\n",
    "\n",
    "-   조건\n",
    "    -   python version 3.6 이상\n",
    "    -   mysql version 5.6 이상\n",
    "-   설치\n",
    "    -   `pip install pymysql`\n",
    "    -   `conda install -c conda-forge pymysql`\n"
   ]
  },
  {
   "cell_type": "code",
   "execution_count": null,
   "id": "16ddb3ec",
   "metadata": {},
   "outputs": [],
   "source": []
  },
  {
   "cell_type": "markdown",
   "id": "7572463d",
   "metadata": {},
   "source": [
    "# 기본 작성 절차\n",
    "\n",
    "1. Database 연결\n",
    "    ```python\n",
    "       connection =  pymysql.connect(host=\"DBMS 서버 ip\",\n",
    "                                     port=\"port번호\",\n",
    "                                     user=\"계정명\",\n",
    "                                     password=\"비밀번호\",\n",
    "                                     db=\"연결할데이터베이스이름\",\n",
    "                                     charset='utf8')\n",
    "    ```\n",
    "    - port 번호 기본값: 3306\n",
    "2. Connection을 이용해 Cursor 생성  cursor .. 입출력 기능 가진! \n",
    "    - Cursor: 연결된 Database에 sql문을 전송하고 select결과 조회 기능을 제공하는 객체\n",
    "    ```python\n",
    "        cursor = connection.cursor()\n",
    "    ```\n",
    "3. Cusror를 이용해 SQL문 전송\n",
    "    ```python\n",
    "        cursor.execute(\"sql문\")\n",
    "    ```\n",
    "4. 연결 닫기\n",
    "    - cursor(closing io), connection(closing network) 연결을 닫는다.\n",
    "    - with문을 이용할 수 있다.\n",
    "    ```python\n",
    "    cursor.close()\n",
    "    connection.close()\n",
    "    ```\n"
   ]
  },
  {
   "cell_type": "markdown",
   "id": "3262b127",
   "metadata": {},
   "source": [
    "# 예제\n",
    "\n",
    "## 테이블 생성\n"
   ]
  },
  {
   "cell_type": "code",
   "execution_count": 5,
   "id": "a8a1f263",
   "metadata": {},
   "outputs": [],
   "source": [
    "create_sql = '''\n",
    "create table customer(\n",
    "id int auto_increment primary key,\n",
    "name varchar(20) not null, \n",
    "email varchar (50) not null unique,\n",
    "tall decimal(5,2), # 100단위까지, 소숫점 2자리까지\n",
    "birthday date,\n",
    "created_at datetime not null\n",
    "\n",
    ")\n",
    "\n",
    "\n",
    "'''   # SQL문 마지막에 ';'붙이지 않는다."
   ]
  },
  {
   "cell_type": "code",
   "execution_count": 17,
   "id": "430f0cb2-fece-4b0c-bfb4-fd91c3bb6cef",
   "metadata": {
    "collapsed": true,
    "jupyter": {
     "outputs_hidden": true
    }
   },
   "outputs": [
    {
     "name": "stdout",
     "output_type": "stream",
     "text": [
      "<class 'pymysql.connections.Connection'>\n",
      "<class 'pymysql.cursors.Cursor'>\n"
     ]
    },
    {
     "ename": "OperationalError",
     "evalue": "(1050, \"Table 'customer' already exists\")",
     "output_type": "error",
     "traceback": [
      "\u001b[1;31m---------------------------------------------------------------------------\u001b[0m",
      "\u001b[1;31mOperationalError\u001b[0m                          Traceback (most recent call last)",
      "Cell \u001b[1;32mIn[17], line 21\u001b[0m\n\u001b[0;32m     17\u001b[0m     \u001b[38;5;28mprint\u001b[39m(\u001b[38;5;28mtype\u001b[39m(cursor))\n\u001b[0;32m     19\u001b[0m     \u001b[38;5;66;03m# 3. SQL 문 전송 + 처리결과 받기 \u001b[39;00m\n\u001b[1;32m---> 21\u001b[0m     result \u001b[38;5;241m=\u001b[39m \u001b[43mcursor\u001b[49m\u001b[38;5;241;43m.\u001b[39;49m\u001b[43mexecute\u001b[49m\u001b[43m(\u001b[49m\u001b[43mcreate_sql\u001b[49m\u001b[43m)\u001b[49m \u001b[38;5;66;03m# execute라는 함수가 디비로 보내주고 받아주는 \u001b[39;00m\n\u001b[0;32m     22\u001b[0m     \u001b[38;5;28mprint\u001b[39m(\u001b[38;5;124m'\u001b[39m\u001b[38;5;124m처리결과:\u001b[39m\u001b[38;5;124m'\u001b[39m, result) \u001b[38;5;66;03m# 처리결과 0이 나오는 것은 create 할 때 그런것\u001b[39;00m\n\u001b[0;32m     23\u001b[0m \u001b[38;5;28;01mfinally\u001b[39;00m:\n\u001b[0;32m     24\u001b[0m \u001b[38;5;66;03m# 4. 연결닫기(끊기)\u001b[39;00m\n",
      "File \u001b[1;32mC:\\Classes\\eddie_python\\env\\Lib\\site-packages\\pymysql\\cursors.py:153\u001b[0m, in \u001b[0;36mCursor.execute\u001b[1;34m(self, query, args)\u001b[0m\n\u001b[0;32m    149\u001b[0m     \u001b[38;5;28;01mpass\u001b[39;00m\n\u001b[0;32m    151\u001b[0m query \u001b[38;5;241m=\u001b[39m \u001b[38;5;28mself\u001b[39m\u001b[38;5;241m.\u001b[39mmogrify(query, args)\n\u001b[1;32m--> 153\u001b[0m result \u001b[38;5;241m=\u001b[39m \u001b[38;5;28;43mself\u001b[39;49m\u001b[38;5;241;43m.\u001b[39;49m\u001b[43m_query\u001b[49m\u001b[43m(\u001b[49m\u001b[43mquery\u001b[49m\u001b[43m)\u001b[49m\n\u001b[0;32m    154\u001b[0m \u001b[38;5;28mself\u001b[39m\u001b[38;5;241m.\u001b[39m_executed \u001b[38;5;241m=\u001b[39m query\n\u001b[0;32m    155\u001b[0m \u001b[38;5;28;01mreturn\u001b[39;00m result\n",
      "File \u001b[1;32mC:\\Classes\\eddie_python\\env\\Lib\\site-packages\\pymysql\\cursors.py:322\u001b[0m, in \u001b[0;36mCursor._query\u001b[1;34m(self, q)\u001b[0m\n\u001b[0;32m    320\u001b[0m conn \u001b[38;5;241m=\u001b[39m \u001b[38;5;28mself\u001b[39m\u001b[38;5;241m.\u001b[39m_get_db()\n\u001b[0;32m    321\u001b[0m \u001b[38;5;28mself\u001b[39m\u001b[38;5;241m.\u001b[39m_clear_result()\n\u001b[1;32m--> 322\u001b[0m \u001b[43mconn\u001b[49m\u001b[38;5;241;43m.\u001b[39;49m\u001b[43mquery\u001b[49m\u001b[43m(\u001b[49m\u001b[43mq\u001b[49m\u001b[43m)\u001b[49m\n\u001b[0;32m    323\u001b[0m \u001b[38;5;28mself\u001b[39m\u001b[38;5;241m.\u001b[39m_do_get_result()\n\u001b[0;32m    324\u001b[0m \u001b[38;5;28;01mreturn\u001b[39;00m \u001b[38;5;28mself\u001b[39m\u001b[38;5;241m.\u001b[39mrowcount\n",
      "File \u001b[1;32mC:\\Classes\\eddie_python\\env\\Lib\\site-packages\\pymysql\\connections.py:558\u001b[0m, in \u001b[0;36mConnection.query\u001b[1;34m(self, sql, unbuffered)\u001b[0m\n\u001b[0;32m    556\u001b[0m     sql \u001b[38;5;241m=\u001b[39m sql\u001b[38;5;241m.\u001b[39mencode(\u001b[38;5;28mself\u001b[39m\u001b[38;5;241m.\u001b[39mencoding, \u001b[38;5;124m\"\u001b[39m\u001b[38;5;124msurrogateescape\u001b[39m\u001b[38;5;124m\"\u001b[39m)\n\u001b[0;32m    557\u001b[0m \u001b[38;5;28mself\u001b[39m\u001b[38;5;241m.\u001b[39m_execute_command(COMMAND\u001b[38;5;241m.\u001b[39mCOM_QUERY, sql)\n\u001b[1;32m--> 558\u001b[0m \u001b[38;5;28mself\u001b[39m\u001b[38;5;241m.\u001b[39m_affected_rows \u001b[38;5;241m=\u001b[39m \u001b[38;5;28;43mself\u001b[39;49m\u001b[38;5;241;43m.\u001b[39;49m\u001b[43m_read_query_result\u001b[49m\u001b[43m(\u001b[49m\u001b[43munbuffered\u001b[49m\u001b[38;5;241;43m=\u001b[39;49m\u001b[43munbuffered\u001b[49m\u001b[43m)\u001b[49m\n\u001b[0;32m    559\u001b[0m \u001b[38;5;28;01mreturn\u001b[39;00m \u001b[38;5;28mself\u001b[39m\u001b[38;5;241m.\u001b[39m_affected_rows\n",
      "File \u001b[1;32mC:\\Classes\\eddie_python\\env\\Lib\\site-packages\\pymysql\\connections.py:822\u001b[0m, in \u001b[0;36mConnection._read_query_result\u001b[1;34m(self, unbuffered)\u001b[0m\n\u001b[0;32m    820\u001b[0m \u001b[38;5;28;01melse\u001b[39;00m:\n\u001b[0;32m    821\u001b[0m     result \u001b[38;5;241m=\u001b[39m MySQLResult(\u001b[38;5;28mself\u001b[39m)\n\u001b[1;32m--> 822\u001b[0m     \u001b[43mresult\u001b[49m\u001b[38;5;241;43m.\u001b[39;49m\u001b[43mread\u001b[49m\u001b[43m(\u001b[49m\u001b[43m)\u001b[49m\n\u001b[0;32m    823\u001b[0m \u001b[38;5;28mself\u001b[39m\u001b[38;5;241m.\u001b[39m_result \u001b[38;5;241m=\u001b[39m result\n\u001b[0;32m    824\u001b[0m \u001b[38;5;28;01mif\u001b[39;00m result\u001b[38;5;241m.\u001b[39mserver_status \u001b[38;5;129;01mis\u001b[39;00m \u001b[38;5;129;01mnot\u001b[39;00m \u001b[38;5;28;01mNone\u001b[39;00m:\n",
      "File \u001b[1;32mC:\\Classes\\eddie_python\\env\\Lib\\site-packages\\pymysql\\connections.py:1200\u001b[0m, in \u001b[0;36mMySQLResult.read\u001b[1;34m(self)\u001b[0m\n\u001b[0;32m   1198\u001b[0m \u001b[38;5;28;01mdef\u001b[39;00m \u001b[38;5;21mread\u001b[39m(\u001b[38;5;28mself\u001b[39m):\n\u001b[0;32m   1199\u001b[0m     \u001b[38;5;28;01mtry\u001b[39;00m:\n\u001b[1;32m-> 1200\u001b[0m         first_packet \u001b[38;5;241m=\u001b[39m \u001b[38;5;28;43mself\u001b[39;49m\u001b[38;5;241;43m.\u001b[39;49m\u001b[43mconnection\u001b[49m\u001b[38;5;241;43m.\u001b[39;49m\u001b[43m_read_packet\u001b[49m\u001b[43m(\u001b[49m\u001b[43m)\u001b[49m\n\u001b[0;32m   1202\u001b[0m         \u001b[38;5;28;01mif\u001b[39;00m first_packet\u001b[38;5;241m.\u001b[39mis_ok_packet():\n\u001b[0;32m   1203\u001b[0m             \u001b[38;5;28mself\u001b[39m\u001b[38;5;241m.\u001b[39m_read_ok_packet(first_packet)\n",
      "File \u001b[1;32mC:\\Classes\\eddie_python\\env\\Lib\\site-packages\\pymysql\\connections.py:772\u001b[0m, in \u001b[0;36mConnection._read_packet\u001b[1;34m(self, packet_type)\u001b[0m\n\u001b[0;32m    770\u001b[0m     \u001b[38;5;28;01mif\u001b[39;00m \u001b[38;5;28mself\u001b[39m\u001b[38;5;241m.\u001b[39m_result \u001b[38;5;129;01mis\u001b[39;00m \u001b[38;5;129;01mnot\u001b[39;00m \u001b[38;5;28;01mNone\u001b[39;00m \u001b[38;5;129;01mand\u001b[39;00m \u001b[38;5;28mself\u001b[39m\u001b[38;5;241m.\u001b[39m_result\u001b[38;5;241m.\u001b[39munbuffered_active \u001b[38;5;129;01mis\u001b[39;00m \u001b[38;5;28;01mTrue\u001b[39;00m:\n\u001b[0;32m    771\u001b[0m         \u001b[38;5;28mself\u001b[39m\u001b[38;5;241m.\u001b[39m_result\u001b[38;5;241m.\u001b[39munbuffered_active \u001b[38;5;241m=\u001b[39m \u001b[38;5;28;01mFalse\u001b[39;00m\n\u001b[1;32m--> 772\u001b[0m     \u001b[43mpacket\u001b[49m\u001b[38;5;241;43m.\u001b[39;49m\u001b[43mraise_for_error\u001b[49m\u001b[43m(\u001b[49m\u001b[43m)\u001b[49m\n\u001b[0;32m    773\u001b[0m \u001b[38;5;28;01mreturn\u001b[39;00m packet\n",
      "File \u001b[1;32mC:\\Classes\\eddie_python\\env\\Lib\\site-packages\\pymysql\\protocol.py:221\u001b[0m, in \u001b[0;36mMysqlPacket.raise_for_error\u001b[1;34m(self)\u001b[0m\n\u001b[0;32m    219\u001b[0m \u001b[38;5;28;01mif\u001b[39;00m DEBUG:\n\u001b[0;32m    220\u001b[0m     \u001b[38;5;28mprint\u001b[39m(\u001b[38;5;124m\"\u001b[39m\u001b[38;5;124merrno =\u001b[39m\u001b[38;5;124m\"\u001b[39m, errno)\n\u001b[1;32m--> 221\u001b[0m \u001b[43merr\u001b[49m\u001b[38;5;241;43m.\u001b[39;49m\u001b[43mraise_mysql_exception\u001b[49m\u001b[43m(\u001b[49m\u001b[38;5;28;43mself\u001b[39;49m\u001b[38;5;241;43m.\u001b[39;49m\u001b[43m_data\u001b[49m\u001b[43m)\u001b[49m\n",
      "File \u001b[1;32mC:\\Classes\\eddie_python\\env\\Lib\\site-packages\\pymysql\\err.py:143\u001b[0m, in \u001b[0;36mraise_mysql_exception\u001b[1;34m(data)\u001b[0m\n\u001b[0;32m    141\u001b[0m \u001b[38;5;28;01mif\u001b[39;00m errorclass \u001b[38;5;129;01mis\u001b[39;00m \u001b[38;5;28;01mNone\u001b[39;00m:\n\u001b[0;32m    142\u001b[0m     errorclass \u001b[38;5;241m=\u001b[39m InternalError \u001b[38;5;28;01mif\u001b[39;00m errno \u001b[38;5;241m<\u001b[39m \u001b[38;5;241m1000\u001b[39m \u001b[38;5;28;01melse\u001b[39;00m OperationalError\n\u001b[1;32m--> 143\u001b[0m \u001b[38;5;28;01mraise\u001b[39;00m errorclass(errno, errval)\n",
      "\u001b[1;31mOperationalError\u001b[0m: (1050, \"Table 'customer' already exists\")"
     ]
    }
   ],
   "source": [
    "import pymysql \n",
    "try:\n",
    "    conn=None\n",
    "    # 1. database와 연결. \n",
    "    conn= pymysql.connect(\n",
    "        host='127.0.0.1', #dbms의 ip(host): str\n",
    "        port=3306,        #dbms의 port 번호: int\n",
    "        user='happy_noodle', #username: str\n",
    "        password='3535' , # password: str\n",
    "        db='mydb'\n",
    "    ) # 연결 성공하면 연결된 db와 관련 작업할 수 있는 기능을 제공하는 connection 객체를 반환\n",
    "    print(type(conn))\n",
    "    \n",
    "    # 2. connection을 사용해서 cursor 객체 생성\n",
    "    # cursor : sql 처리를 하는 기능을 제공(sql 전송하고 처리결과를 받을 때 까지를 관리)\n",
    "    cursor = conn.cursor()\n",
    "    print(type(cursor))\n",
    "    \n",
    "    # 3. SQL 문 전송 + 처리결과 받기 \n",
    "    \n",
    "    result = cursor.execute(create_sql) # execute라는 함수가 디비로 보내주고 받아주는 \n",
    "    print('처리결과:', result) # 처리결과 0이 나오는 것은 create 할 때 그런것\n",
    "finally:\n",
    "# 4. 연결닫기(끊기)\n",
    "    if conn:\n",
    "        cursor.close() # 4-1. cursor 연결 닫기\n",
    "        conn.close() # 4-2. connection 연결 닫기"
   ]
  },
  {
   "cell_type": "markdown",
   "id": "59b4e786",
   "metadata": {},
   "source": [
    "## DML\n",
    "\n",
    "### insert\n"
   ]
  },
  {
   "cell_type": "code",
   "execution_count": 31,
   "id": "61deab37",
   "metadata": {},
   "outputs": [],
   "source": [
    "sql = \"insert into customer (name, email, tall,birthday,created_at)\\\n",
    "values('이순신', 'le2e@naver.com', 185.23, '2000-09-20',now())\"  # \\+엔터 하면 이거 편하게 보기 위한거니까, 한줄로 처리해줘\n",
    "\n",
    "\n",
    "\n"
   ]
  },
  {
   "cell_type": "code",
   "execution_count": 33,
   "id": "0c069be9-09f2-45f0-93a0-1dcf57911d5d",
   "metadata": {},
   "outputs": [
    {
     "name": "stdout",
     "output_type": "stream",
     "text": [
      "결과: 1\n"
     ]
    }
   ],
   "source": [
    "# connection, cursor 생성 -> with 문으로 작성.\n",
    "# manual commit이 default. \n",
    "# DML(insert/update/delete) 처리 후 commit 실행해야한다.\n",
    "# try:\n",
    "with pymysql.connect(host='127.0.0.1', port=3306, user='happy_noodle',password='3535',db='mydb') as conn:\n",
    "    with conn.cursor() as cursor:\n",
    "        result = cursor.execute(sql) #insert/update/delete의 경우 변경된 행수를 반환\n",
    "        print('결과:',result)\n",
    "        conn.commit()"
   ]
  },
  {
   "cell_type": "code",
   "execution_count": null,
   "id": "c78ebebd",
   "metadata": {},
   "outputs": [],
   "source": []
  },
  {
   "cell_type": "markdown",
   "id": "c1d9de83",
   "metadata": {
    "ExecuteTime": {
     "end_time": "2022-04-19T06:23:30.323879Z",
     "start_time": "2022-04-19T06:23:30.304888Z"
    }
   },
   "source": [
    "### Parameterized Query\n",
    "\n",
    "-   Parameterized Query\n",
    "    -   SQL 문에서 컬럼 값이 들어가는 자리에 값대신 `%s` placeholder를 사용한뒤 execute()에서 placeholder에 넣을 값을 list나 tuple로 제공한다.\n",
    "    -   query문을 쉽게 작성할 수 있는 장점이 있다.\n"
   ]
  },
  {
   "cell_type": "code",
   "execution_count": 35,
   "id": "5c060325",
   "metadata": {},
   "outputs": [
    {
     "name": "stdin",
     "output_type": "stream",
     "text": [
      "이름입력해 크어엉\n",
      "이메일은? changu@gmail.com\n"
     ]
    },
    {
     "name": "stdout",
     "output_type": "stream",
     "text": [
      "처리행: 1\n"
     ]
    }
   ],
   "source": [
    "import pymysql \n",
    "insert_sql = \"insert into customer(name,email,tall,birthday,created_at)\\\n",
    "values(%s, %s, %s, %s, now())\"\n",
    "\n",
    "name = input('이름입력해')\n",
    "email = input('이메일은?')\n",
    "with pymysql.connect(host ='127.0.0.1', port=3306, user='happy_noodle',password ='3535', db='mydb') as conn:\n",
    "    with conn.cursor() as cursor:\n",
    "        result = cursor.execute(insert_sql,[name, email, 173.33, '2010-01-03'])\n",
    "        conn.commit()\n",
    "        print('처리행:',result)"
   ]
  },
  {
   "cell_type": "code",
   "execution_count": null,
   "id": "7dbc54a9",
   "metadata": {},
   "outputs": [],
   "source": []
  },
  {
   "cell_type": "markdown",
   "id": "37335b7b",
   "metadata": {},
   "source": [
    "### Parameterized Query를 이용해 여러개 행 insert\n",
    "\n",
    "#### for문 사용\n"
   ]
  },
  {
   "cell_type": "markdown",
   "id": "71b64b17-d7e4-43da-8144-8b23e9b51240",
   "metadata": {},
   "source": [
    "# 파이썬 - sql 데이터 타입 \n",
    "  str - 문자열 (char, varchar,text,...)\n",
    "  int - 정수 (tinyint, int, ...)\n",
    "  float - 실수(decimal, float, double, ...)\n",
    "  date - date\n",
    "  time - time\n",
    "  datetime - datetime, timestamp"
   ]
  },
  {
   "cell_type": "code",
   "execution_count": 37,
   "id": "6d6aa05d-01b4-419e-968b-f22095fe139e",
   "metadata": {},
   "outputs": [
    {
     "data": {
      "text/plain": [
       "datetime.date(2024, 3, 22)"
      ]
     },
     "execution_count": 37,
     "metadata": {},
     "output_type": "execute_result"
    }
   ],
   "source": [
    "from datetime import date, datetime\n",
    "a = date(2000,10,20) # 년 월 일 \n",
    "a.year, a.month, a.day\n",
    "b = datetime(2000,10,20,12,23)\n",
    "b.year, b.month, b.day, b.hour, b.minute, b.second\n",
    "datetime.now() #실행시점의 일시 -> datetime(mysql: now())\n",
    "date.today() # 실행시점의 날짜 -> date(mysql: curdate())"
   ]
  },
  {
   "cell_type": "code",
   "execution_count": 52,
   "id": "81f9c6bc-dd15-4360-b3cc-ae32534d93e0",
   "metadata": {},
   "outputs": [
    {
     "ename": "IntegrityError",
     "evalue": "(1062, \"Duplicate entry 'abc1@abc.com' for key 'customer.email'\")",
     "output_type": "error",
     "traceback": [
      "\u001b[1;31m---------------------------------------------------------------------------\u001b[0m",
      "\u001b[1;31mIntegrityError\u001b[0m                            Traceback (most recent call last)",
      "Cell \u001b[1;32mIn[52], line 10\u001b[0m\n\u001b[0;32m      8\u001b[0m \u001b[38;5;28;01mwith\u001b[39;00m conn\u001b[38;5;241m.\u001b[39mcursor() \u001b[38;5;28;01mas\u001b[39;00m cursor:\n\u001b[0;32m      9\u001b[0m     \u001b[38;5;28;01mfor\u001b[39;00m data \u001b[38;5;129;01min\u001b[39;00m datas:\n\u001b[1;32m---> 10\u001b[0m         r \u001b[38;5;241m=\u001b[39m \u001b[43mcursor\u001b[49m\u001b[38;5;241;43m.\u001b[39;49m\u001b[43mexecute\u001b[49m\u001b[43m(\u001b[49m\u001b[43minsert_sql\u001b[49m\u001b[43m,\u001b[49m\u001b[43mdata\u001b[49m\u001b[43m)\u001b[49m\n\u001b[0;32m     11\u001b[0m         conn\u001b[38;5;241m.\u001b[39mcommit()\n",
      "File \u001b[1;32mC:\\Classes\\eddie_python\\env\\Lib\\site-packages\\pymysql\\cursors.py:153\u001b[0m, in \u001b[0;36mCursor.execute\u001b[1;34m(self, query, args)\u001b[0m\n\u001b[0;32m    149\u001b[0m     \u001b[38;5;28;01mpass\u001b[39;00m\n\u001b[0;32m    151\u001b[0m query \u001b[38;5;241m=\u001b[39m \u001b[38;5;28mself\u001b[39m\u001b[38;5;241m.\u001b[39mmogrify(query, args)\n\u001b[1;32m--> 153\u001b[0m result \u001b[38;5;241m=\u001b[39m \u001b[38;5;28;43mself\u001b[39;49m\u001b[38;5;241;43m.\u001b[39;49m\u001b[43m_query\u001b[49m\u001b[43m(\u001b[49m\u001b[43mquery\u001b[49m\u001b[43m)\u001b[49m\n\u001b[0;32m    154\u001b[0m \u001b[38;5;28mself\u001b[39m\u001b[38;5;241m.\u001b[39m_executed \u001b[38;5;241m=\u001b[39m query\n\u001b[0;32m    155\u001b[0m \u001b[38;5;28;01mreturn\u001b[39;00m result\n",
      "File \u001b[1;32mC:\\Classes\\eddie_python\\env\\Lib\\site-packages\\pymysql\\cursors.py:322\u001b[0m, in \u001b[0;36mCursor._query\u001b[1;34m(self, q)\u001b[0m\n\u001b[0;32m    320\u001b[0m conn \u001b[38;5;241m=\u001b[39m \u001b[38;5;28mself\u001b[39m\u001b[38;5;241m.\u001b[39m_get_db()\n\u001b[0;32m    321\u001b[0m \u001b[38;5;28mself\u001b[39m\u001b[38;5;241m.\u001b[39m_clear_result()\n\u001b[1;32m--> 322\u001b[0m \u001b[43mconn\u001b[49m\u001b[38;5;241;43m.\u001b[39;49m\u001b[43mquery\u001b[49m\u001b[43m(\u001b[49m\u001b[43mq\u001b[49m\u001b[43m)\u001b[49m\n\u001b[0;32m    323\u001b[0m \u001b[38;5;28mself\u001b[39m\u001b[38;5;241m.\u001b[39m_do_get_result()\n\u001b[0;32m    324\u001b[0m \u001b[38;5;28;01mreturn\u001b[39;00m \u001b[38;5;28mself\u001b[39m\u001b[38;5;241m.\u001b[39mrowcount\n",
      "File \u001b[1;32mC:\\Classes\\eddie_python\\env\\Lib\\site-packages\\pymysql\\connections.py:558\u001b[0m, in \u001b[0;36mConnection.query\u001b[1;34m(self, sql, unbuffered)\u001b[0m\n\u001b[0;32m    556\u001b[0m     sql \u001b[38;5;241m=\u001b[39m sql\u001b[38;5;241m.\u001b[39mencode(\u001b[38;5;28mself\u001b[39m\u001b[38;5;241m.\u001b[39mencoding, \u001b[38;5;124m\"\u001b[39m\u001b[38;5;124msurrogateescape\u001b[39m\u001b[38;5;124m\"\u001b[39m)\n\u001b[0;32m    557\u001b[0m \u001b[38;5;28mself\u001b[39m\u001b[38;5;241m.\u001b[39m_execute_command(COMMAND\u001b[38;5;241m.\u001b[39mCOM_QUERY, sql)\n\u001b[1;32m--> 558\u001b[0m \u001b[38;5;28mself\u001b[39m\u001b[38;5;241m.\u001b[39m_affected_rows \u001b[38;5;241m=\u001b[39m \u001b[38;5;28;43mself\u001b[39;49m\u001b[38;5;241;43m.\u001b[39;49m\u001b[43m_read_query_result\u001b[49m\u001b[43m(\u001b[49m\u001b[43munbuffered\u001b[49m\u001b[38;5;241;43m=\u001b[39;49m\u001b[43munbuffered\u001b[49m\u001b[43m)\u001b[49m\n\u001b[0;32m    559\u001b[0m \u001b[38;5;28;01mreturn\u001b[39;00m \u001b[38;5;28mself\u001b[39m\u001b[38;5;241m.\u001b[39m_affected_rows\n",
      "File \u001b[1;32mC:\\Classes\\eddie_python\\env\\Lib\\site-packages\\pymysql\\connections.py:822\u001b[0m, in \u001b[0;36mConnection._read_query_result\u001b[1;34m(self, unbuffered)\u001b[0m\n\u001b[0;32m    820\u001b[0m \u001b[38;5;28;01melse\u001b[39;00m:\n\u001b[0;32m    821\u001b[0m     result \u001b[38;5;241m=\u001b[39m MySQLResult(\u001b[38;5;28mself\u001b[39m)\n\u001b[1;32m--> 822\u001b[0m     \u001b[43mresult\u001b[49m\u001b[38;5;241;43m.\u001b[39;49m\u001b[43mread\u001b[49m\u001b[43m(\u001b[49m\u001b[43m)\u001b[49m\n\u001b[0;32m    823\u001b[0m \u001b[38;5;28mself\u001b[39m\u001b[38;5;241m.\u001b[39m_result \u001b[38;5;241m=\u001b[39m result\n\u001b[0;32m    824\u001b[0m \u001b[38;5;28;01mif\u001b[39;00m result\u001b[38;5;241m.\u001b[39mserver_status \u001b[38;5;129;01mis\u001b[39;00m \u001b[38;5;129;01mnot\u001b[39;00m \u001b[38;5;28;01mNone\u001b[39;00m:\n",
      "File \u001b[1;32mC:\\Classes\\eddie_python\\env\\Lib\\site-packages\\pymysql\\connections.py:1200\u001b[0m, in \u001b[0;36mMySQLResult.read\u001b[1;34m(self)\u001b[0m\n\u001b[0;32m   1198\u001b[0m \u001b[38;5;28;01mdef\u001b[39;00m \u001b[38;5;21mread\u001b[39m(\u001b[38;5;28mself\u001b[39m):\n\u001b[0;32m   1199\u001b[0m     \u001b[38;5;28;01mtry\u001b[39;00m:\n\u001b[1;32m-> 1200\u001b[0m         first_packet \u001b[38;5;241m=\u001b[39m \u001b[38;5;28;43mself\u001b[39;49m\u001b[38;5;241;43m.\u001b[39;49m\u001b[43mconnection\u001b[49m\u001b[38;5;241;43m.\u001b[39;49m\u001b[43m_read_packet\u001b[49m\u001b[43m(\u001b[49m\u001b[43m)\u001b[49m\n\u001b[0;32m   1202\u001b[0m         \u001b[38;5;28;01mif\u001b[39;00m first_packet\u001b[38;5;241m.\u001b[39mis_ok_packet():\n\u001b[0;32m   1203\u001b[0m             \u001b[38;5;28mself\u001b[39m\u001b[38;5;241m.\u001b[39m_read_ok_packet(first_packet)\n",
      "File \u001b[1;32mC:\\Classes\\eddie_python\\env\\Lib\\site-packages\\pymysql\\connections.py:772\u001b[0m, in \u001b[0;36mConnection._read_packet\u001b[1;34m(self, packet_type)\u001b[0m\n\u001b[0;32m    770\u001b[0m     \u001b[38;5;28;01mif\u001b[39;00m \u001b[38;5;28mself\u001b[39m\u001b[38;5;241m.\u001b[39m_result \u001b[38;5;129;01mis\u001b[39;00m \u001b[38;5;129;01mnot\u001b[39;00m \u001b[38;5;28;01mNone\u001b[39;00m \u001b[38;5;129;01mand\u001b[39;00m \u001b[38;5;28mself\u001b[39m\u001b[38;5;241m.\u001b[39m_result\u001b[38;5;241m.\u001b[39munbuffered_active \u001b[38;5;129;01mis\u001b[39;00m \u001b[38;5;28;01mTrue\u001b[39;00m:\n\u001b[0;32m    771\u001b[0m         \u001b[38;5;28mself\u001b[39m\u001b[38;5;241m.\u001b[39m_result\u001b[38;5;241m.\u001b[39munbuffered_active \u001b[38;5;241m=\u001b[39m \u001b[38;5;28;01mFalse\u001b[39;00m\n\u001b[1;32m--> 772\u001b[0m     \u001b[43mpacket\u001b[49m\u001b[38;5;241;43m.\u001b[39;49m\u001b[43mraise_for_error\u001b[49m\u001b[43m(\u001b[49m\u001b[43m)\u001b[49m\n\u001b[0;32m    773\u001b[0m \u001b[38;5;28;01mreturn\u001b[39;00m packet\n",
      "File \u001b[1;32mC:\\Classes\\eddie_python\\env\\Lib\\site-packages\\pymysql\\protocol.py:221\u001b[0m, in \u001b[0;36mMysqlPacket.raise_for_error\u001b[1;34m(self)\u001b[0m\n\u001b[0;32m    219\u001b[0m \u001b[38;5;28;01mif\u001b[39;00m DEBUG:\n\u001b[0;32m    220\u001b[0m     \u001b[38;5;28mprint\u001b[39m(\u001b[38;5;124m\"\u001b[39m\u001b[38;5;124merrno =\u001b[39m\u001b[38;5;124m\"\u001b[39m, errno)\n\u001b[1;32m--> 221\u001b[0m \u001b[43merr\u001b[49m\u001b[38;5;241;43m.\u001b[39;49m\u001b[43mraise_mysql_exception\u001b[49m\u001b[43m(\u001b[49m\u001b[38;5;28;43mself\u001b[39;49m\u001b[38;5;241;43m.\u001b[39;49m\u001b[43m_data\u001b[49m\u001b[43m)\u001b[49m\n",
      "File \u001b[1;32mC:\\Classes\\eddie_python\\env\\Lib\\site-packages\\pymysql\\err.py:143\u001b[0m, in \u001b[0;36mraise_mysql_exception\u001b[1;34m(data)\u001b[0m\n\u001b[0;32m    141\u001b[0m \u001b[38;5;28;01mif\u001b[39;00m errorclass \u001b[38;5;129;01mis\u001b[39;00m \u001b[38;5;28;01mNone\u001b[39;00m:\n\u001b[0;32m    142\u001b[0m     errorclass \u001b[38;5;241m=\u001b[39m InternalError \u001b[38;5;28;01mif\u001b[39;00m errno \u001b[38;5;241m<\u001b[39m \u001b[38;5;241m1000\u001b[39m \u001b[38;5;28;01melse\u001b[39;00m OperationalError\n\u001b[1;32m--> 143\u001b[0m \u001b[38;5;28;01mraise\u001b[39;00m errorclass(errno, errval)\n",
      "\u001b[1;31mIntegrityError\u001b[0m: (1062, \"Duplicate entry 'abc1@abc.com' for key 'customer.email'\")"
     ]
    }
   ],
   "source": [
    "datas = [\n",
    "    [\"name1\", \"abc1@abc.com\", 165, date(2000, 1, 12), datetime.now()],\n",
    "    [\"name2\", \"def1@abc.com\", 175, date(1995, 12, 20), datetime.now()],\n",
    "    [\"name3\", \"ghi1@abc.com\", 185, date(1988, 7, 21), datetime.now()],\n",
    "]\n",
    "insert_sql = 'insert into customer(name,email,tall,birthday,created_at) values(%s,%s,%s,%s,%s)'\n",
    "with pymysql.connect(host ='127.0.0.1', port=3306, user='happy_noodle',password ='3535', db='mydb') as conn:\n",
    "    with conn.cursor() as cursor:\n",
    "        for data in datas:\n",
    "            r = cursor.execute(insert_sql,data)\n",
    "            conn.commit()"
   ]
  },
  {
   "cell_type": "code",
   "execution_count": null,
   "id": "cd598d70",
   "metadata": {},
   "outputs": [],
   "source": []
  },
  {
   "cell_type": "markdown",
   "id": "7322f3bb",
   "metadata": {},
   "source": [
    "#### executemany() 사용\n",
    "\n",
    "-   insert할 값들을 가진 리스트를 넣어 한번에 여러 행을 insert한다.\n"
   ]
  },
  {
   "cell_type": "code",
   "execution_count": 45,
   "id": "f72beeb1",
   "metadata": {},
   "outputs": [],
   "source": [
    "datas = [\n",
    "    [\"이름1\", \"abc2@a.com\", 165, date(2000, 1, 12), datetime.now()],\n",
    "    [\"이름2\", \"def2@a.com\", 175, date(1995, 12, 20), datetime.now()],\n",
    "    [\"이름1\", \"ghi2@a.com\", 185, date(1988, 7, 21), datetime.now()],\n",
    "]"
   ]
  },
  {
   "cell_type": "code",
   "execution_count": 46,
   "id": "2792bae6",
   "metadata": {},
   "outputs": [],
   "source": [
    "insert_sql = 'insert into customer(name,email,tall,birthday,created_at) values(%s,%s,%s,%s,%s)'\n",
    "with pymysql.connect(host ='127.0.0.1', port=3306, user='happy_noodle',password ='3535', db='mydb') as conn:\n",
    "    with conn.cursor() as cursor:\n",
    "        cnt = cursor.executemany(insert_sql,datas)\n",
    "        conn.commit()\n",
    "\n",
    "# for문을 돌려준다고 생각하면 됨 "
   ]
  },
  {
   "cell_type": "code",
   "execution_count": 47,
   "id": "0f66c3cb",
   "metadata": {},
   "outputs": [
    {
     "name": "stdout",
     "output_type": "stream",
     "text": [
      "3\n"
     ]
    }
   ],
   "source": [
    "print(cnt) # 모든 sql이 적용된 행수들"
   ]
  },
  {
   "cell_type": "markdown",
   "id": "d78f4253",
   "metadata": {},
   "source": [
    "### update/delete\n",
    "\n",
    "-   코딩 절차는 insert 와 동일\n"
   ]
  },
  {
   "cell_type": "code",
   "execution_count": 93,
   "id": "5f056266",
   "metadata": {},
   "outputs": [
    {
     "name": "stdin",
     "output_type": "stream",
     "text": [
      "변경할 키: 180\n",
      "변경할 고객 ID: 1\n"
     ]
    },
    {
     "name": "stdout",
     "output_type": "stream",
     "text": [
      "처리행수: 0\n"
     ]
    }
   ],
   "source": [
    "del float\n",
    "update_sql = \"update customer set tall = %s where id = %s\"\n",
    "tall = float(input('변경할 키:')) # 실제 DB 컬럼타입과 파이썬 타입 매칭\n",
    "cust_id = int(input('변경할 고객 ID:'))# 실제 DB 컬럼타입과 파이썬 타입 매칭\n",
    "with pymysql.connect(host ='127.0.0.1', port=3306, user='happy_noodle',password ='3535', db='mydb') as conn:\n",
    "    with conn.cursor() as cursor:\n",
    "        result = cursor.execute(update_sql,[tall,cust_id])\n",
    "        print('처리행수:',result)\n",
    "        conn.commit()\n"
   ]
  },
  {
   "cell_type": "code",
   "execution_count": 51,
   "id": "55cc6af5",
   "metadata": {},
   "outputs": [
    {
     "name": "stdin",
     "output_type": "stream",
     "text": [
      "삭제기준 키: 170\n"
     ]
    },
    {
     "ename": "TypeError",
     "evalue": "'float' object is not callable",
     "output_type": "error",
     "traceback": [
      "\u001b[1;31m---------------------------------------------------------------------------\u001b[0m",
      "\u001b[1;31mTypeError\u001b[0m                                 Traceback (most recent call last)",
      "Cell \u001b[1;32mIn[51], line 3\u001b[0m\n\u001b[0;32m      1\u001b[0m delete_sql \u001b[38;5;241m=\u001b[39m \u001b[38;5;124m\"\u001b[39m\u001b[38;5;124mdelete from customer where tall > \u001b[39m\u001b[38;5;132;01m%s\u001b[39;00m\u001b[38;5;124m\"\u001b[39m\n\u001b[1;32m----> 3\u001b[0m tall \u001b[38;5;241m=\u001b[39m \u001b[38;5;28;43mfloat\u001b[39;49m\u001b[43m(\u001b[49m\u001b[38;5;28;43minput\u001b[39;49m\u001b[43m(\u001b[49m\u001b[38;5;124;43m'\u001b[39;49m\u001b[38;5;124;43m삭제기준 키:\u001b[39;49m\u001b[38;5;124;43m'\u001b[39;49m\u001b[43m)\u001b[49m\u001b[43m)\u001b[49m\n\u001b[0;32m      6\u001b[0m \u001b[38;5;28;01mwith\u001b[39;00m pymysql\u001b[38;5;241m.\u001b[39mconnect(host \u001b[38;5;241m=\u001b[39m\u001b[38;5;124m'\u001b[39m\u001b[38;5;124m127.0.0.1\u001b[39m\u001b[38;5;124m'\u001b[39m, port\u001b[38;5;241m=\u001b[39m\u001b[38;5;241m3306\u001b[39m, user\u001b[38;5;241m=\u001b[39m\u001b[38;5;124m'\u001b[39m\u001b[38;5;124mhappy_noodle\u001b[39m\u001b[38;5;124m'\u001b[39m,password \u001b[38;5;241m=\u001b[39m\u001b[38;5;124m'\u001b[39m\u001b[38;5;124m3535\u001b[39m\u001b[38;5;124m'\u001b[39m, db\u001b[38;5;241m=\u001b[39m\u001b[38;5;124m'\u001b[39m\u001b[38;5;124mmydb\u001b[39m\u001b[38;5;124m'\u001b[39m) \u001b[38;5;28;01mas\u001b[39;00m conn:\n\u001b[0;32m      7\u001b[0m      \u001b[38;5;28;01mwith\u001b[39;00m conn\u001b[38;5;241m.\u001b[39mcursor() \u001b[38;5;28;01mas\u001b[39;00m cursor:\n",
      "\u001b[1;31mTypeError\u001b[0m: 'float' object is not callable"
     ]
    }
   ],
   "source": [
    "delete_sql = \"delete from customer where tall > %s\"\n",
    "\n",
    "tall = float(input('삭제기준 키:'))\n",
    "\n",
    "\n",
    "with pymysql.connect(host ='127.0.0.1', port=3306, user='happy_noodle',password ='3535', db='mydb') as conn:\n",
    "     with conn.cursor() as cursor:\n",
    "        result = cursor.execute(delete_sql,[tall])\n",
    "        print('처리행수:',result)\n",
    "        conn.commit()"
   ]
  },
  {
   "cell_type": "code",
   "execution_count": null,
   "id": "ea34cdb7",
   "metadata": {},
   "outputs": [],
   "source": []
  },
  {
   "cell_type": "markdown",
   "id": "096891b8",
   "metadata": {},
   "source": [
    "## select (DQL - Data Query Language)\n",
    "\n",
    "-   조회결과 조회\n",
    "    -   cursor.execute(\"select문\") 실행 후 cursor의 결과 조회 메소드(fetch메소드)를 이용해 결과를 받는다.\n",
    "-   fetch메소드\n",
    "    -   **fetchall()**\n",
    "        -   조회한 모든 행을을 반환\n",
    "    -   **fetchmany(size=개수)**\n",
    "        -   지정한 size개수 만큼 반환\n",
    "    -   **fetchone()**\n",
    "        -   조회결과 중 첫번째 행만 반환\n",
    "        -   주로 pk 동등 조건으로 조회한 경우 사용\n"
   ]
  },
  {
   "cell_type": "markdown",
   "id": "524f4cb8",
   "metadata": {},
   "source": [
    "### fetchall()\n"
   ]
  },
  {
   "cell_type": "code",
   "execution_count": 57,
   "id": "93a06bf2",
   "metadata": {},
   "outputs": [
    {
     "name": "stdout",
     "output_type": "stream",
     "text": [
      "조회행수 10\n"
     ]
    }
   ],
   "source": [
    "sql = \"select id, name,tall from customer\" # 1개 이상의 행 조회 \n",
    "with pymysql.connect(host ='127.0.0.1', port=3306, user='happy_noodle',password ='3535', db='mydb') as conn:\n",
    "     with conn.cursor() as cursor:\n",
    "         result = cursor.execute(sql)\n",
    "         print('조회행수',result)\n",
    "         resultset = cursor.fetchall()"
   ]
  },
  {
   "cell_type": "code",
   "execution_count": 59,
   "id": "cebb65c0",
   "metadata": {},
   "outputs": [
    {
     "data": {
      "text/plain": [
       "(tuple, 10)"
      ]
     },
     "execution_count": 59,
     "metadata": {},
     "output_type": "execute_result"
    }
   ],
   "source": [
    "type(resultset), len(resultset)"
   ]
  },
  {
   "cell_type": "code",
   "execution_count": 60,
   "id": "82a62b01",
   "metadata": {},
   "outputs": [
    {
     "data": {
      "text/plain": [
       "((2, '이순신', Decimal('185.23')),\n",
       " (8, '이순신', Decimal('185.23')),\n",
       " (9, '유관순', Decimal('173.33')),\n",
       " (10, '크어엉', Decimal('173.33')),\n",
       " (11, 'name1', Decimal('180.00')),\n",
       " (12, 'name2', Decimal('175.00')),\n",
       " (13, 'name3', Decimal('185.00')),\n",
       " (23, '이름1', Decimal('165.00')),\n",
       " (24, '이름2', Decimal('175.00')),\n",
       " (25, '이름1', Decimal('185.00')))"
      ]
     },
     "execution_count": 60,
     "metadata": {},
     "output_type": "execute_result"
    }
   ],
   "source": [
    "resultset"
   ]
  },
  {
   "cell_type": "markdown",
   "id": "b3a9867d",
   "metadata": {},
   "source": [
    "### fetchone()\n"
   ]
  },
  {
   "cell_type": "code",
   "execution_count": 76,
   "id": "97500b7b",
   "metadata": {},
   "outputs": [
    {
     "name": "stdin",
     "output_type": "stream",
     "text": [
      "조회할 ID: 8\n"
     ]
    },
    {
     "name": "stdout",
     "output_type": "stream",
     "text": [
      "조회행수 1\n"
     ]
    }
   ],
   "source": [
    "sql = \"select * from customer where id = %s\" # 1개 이상의 행 조회 \n",
    "cust_id =int(input('조회할 ID:'))\n",
    "with pymysql.connect(host ='127.0.0.1', port=3306, user='happy_noodle',password ='3535', db='mydb') as conn:\n",
    "     with conn.cursor() as cursor:\n",
    "         result = cursor.execute(sql,[cust_id])\n",
    "         print('조회행수',result)\n",
    "         resultset = cursor.fetchone()"
   ]
  },
  {
   "cell_type": "code",
   "execution_count": 81,
   "id": "b0eaf81d",
   "metadata": {},
   "outputs": [
    {
     "data": {
      "text/plain": [
       "'le2e@naver.com'"
      ]
     },
     "execution_count": 81,
     "metadata": {},
     "output_type": "execute_result"
    }
   ],
   "source": [
    "len(resultset),type(resultset)\n",
    "resultset[2]"
   ]
  },
  {
   "cell_type": "code",
   "execution_count": 82,
   "id": "2a2d8d8d-df86-4d92-ba25-d786331c71e8",
   "metadata": {},
   "outputs": [
    {
     "name": "stdin",
     "output_type": "stream",
     "text": [
      "조회할 ID: 8\n"
     ]
    },
    {
     "name": "stdout",
     "output_type": "stream",
     "text": [
      "조회행수 1\n"
     ]
    }
   ],
   "source": [
    "# 딕셔너리로 뽑고싶다! \n",
    "sql = \"select * from customer where id = %s\" # 1개 이상의 행 조회 \n",
    "cust_id =int(input('조회할 ID:'))\n",
    "with pymysql.connect(host ='127.0.0.1', port=3306, user='happy_noodle',password ='3535', db='mydb',cursorclass=pymysql.cursors.DictCursor) as conn:\n",
    "     with conn.cursor() as cursor:\n",
    "         result = cursor.execute(sql,[cust_id])\n",
    "         print('조회행수',result)\n",
    "         resultset = cursor.fetchone()"
   ]
  },
  {
   "cell_type": "code",
   "execution_count": 83,
   "id": "edd3bace-5ff2-4963-9ec3-014bfec9d8cd",
   "metadata": {},
   "outputs": [
    {
     "data": {
      "text/plain": [
       "dict"
      ]
     },
     "execution_count": 83,
     "metadata": {},
     "output_type": "execute_result"
    }
   ],
   "source": [
    "type(resultset)"
   ]
  },
  {
   "cell_type": "code",
   "execution_count": 85,
   "id": "fb9d96ba-2639-4a8b-8c99-64e8f5adfe6e",
   "metadata": {},
   "outputs": [
    {
     "data": {
      "text/plain": [
       "'이순신'"
      ]
     },
     "execution_count": 85,
     "metadata": {},
     "output_type": "execute_result"
    }
   ],
   "source": [
    "resultset['name']"
   ]
  },
  {
   "cell_type": "markdown",
   "id": "cc8054bc",
   "metadata": {},
   "source": [
    "### fetchmany()\n"
   ]
  },
  {
   "cell_type": "code",
   "execution_count": 66,
   "id": "7d72f49c",
   "metadata": {},
   "outputs": [
    {
     "name": "stdout",
     "output_type": "stream",
     "text": [
      "조회행수 10\n"
     ]
    }
   ],
   "source": [
    "sql = \"select * from customer\" # 1개 이상의 행 조회 \n",
    "with pymysql.connect(host ='127.0.0.1', port=3306, user='happy_noodle',password ='3535', db='mydb') as conn:\n",
    "     with conn.cursor() as cursor:\n",
    "         result = cursor.execute(sql)\n",
    "         print('조회행수',result)\n",
    "         resultset = cursor.fetchmany(3)"
   ]
  },
  {
   "cell_type": "code",
   "execution_count": 67,
   "id": "50fffed5",
   "metadata": {},
   "outputs": [
    {
     "data": {
      "text/plain": [
       "3"
      ]
     },
     "execution_count": 67,
     "metadata": {},
     "output_type": "execute_result"
    }
   ],
   "source": [
    "len(resultset) # 10개 다 읽어온게 아니고 3개만 읽어온 것 "
   ]
  },
  {
   "cell_type": "markdown",
   "id": "fca900bd",
   "metadata": {},
   "source": [
    "### cursor 는 iterable 타입\n",
    "\n",
    "-   for문에 select 실행한 cursor를 사용하면 조회결과를 한 행씩 조회할 수 있다.\n"
   ]
  },
  {
   "cell_type": "code",
   "execution_count": 96,
   "id": "8332ff67",
   "metadata": {},
   "outputs": [
    {
     "name": "stdout",
     "output_type": "stream",
     "text": [
      "조회행수 10\n",
      "(2, '이순신', 'lee@naver.com', Decimal('185.23'), datetime.date(2000, 9, 20), datetime.datetime(2024, 3, 22, 0, 0))\n",
      "____\n",
      "(8, '이순신', 'le2e@naver.com', Decimal('180.00'), datetime.date(2000, 9, 20), datetime.datetime(2024, 3, 22, 15, 24, 27))\n",
      "____\n",
      "(9, '유관순', 'r@a.com', Decimal('199.00'), datetime.date(2010, 1, 3), datetime.datetime(2024, 3, 22, 15, 32, 9))\n",
      "____\n",
      "(10, '크어엉', 'changu@gmail.com', Decimal('173.33'), datetime.date(2010, 1, 3), datetime.datetime(2024, 3, 22, 15, 35, 56))\n",
      "____\n",
      "(11, 'name1', 'abc1@abc.com', Decimal('180.00'), datetime.date(2000, 1, 12), datetime.datetime(2024, 3, 22, 16, 7, 42))\n",
      "____\n",
      "(12, 'name2', 'def1@abc.com', Decimal('175.00'), datetime.date(1995, 12, 20), datetime.datetime(2024, 3, 22, 16, 7, 42))\n",
      "____\n",
      "(13, 'name3', 'ghi1@abc.com', Decimal('185.00'), datetime.date(1988, 7, 21), datetime.datetime(2024, 3, 22, 16, 7, 42))\n",
      "____\n",
      "(23, '이름1', 'abc2@a.com', Decimal('165.00'), datetime.date(2000, 1, 12), datetime.datetime(2024, 3, 22, 16, 11))\n",
      "____\n",
      "(24, '이름2', 'def2@a.com', Decimal('175.00'), datetime.date(1995, 12, 20), datetime.datetime(2024, 3, 22, 16, 11))\n",
      "____\n",
      "(25, '이름1', 'ghi2@a.com', Decimal('185.00'), datetime.date(1988, 7, 21), datetime.datetime(2024, 3, 22, 16, 11))\n",
      "____\n"
     ]
    }
   ],
   "source": [
    "sql = \"select * from customer\" # 실행 시 한줄씩 제공해준다.\n",
    "with pymysql.connect(host ='127.0.0.1', port=3306, user='happy_noodle',password ='3535', db='mydb') as conn:\n",
    "     with conn.cursor() as cursor:\n",
    "         result = cursor.execute(sql)\n",
    "         print('조회행수',result)\n",
    "         for data in cursor:\n",
    "             print(data)\n",
    "             print('____')"
   ]
  },
  {
   "cell_type": "code",
   "execution_count": 42,
   "id": "87d50483-9fbe-48a1-b295-44e71db4cde6",
   "metadata": {},
   "outputs": [
    {
     "ename": "NameError",
     "evalue": "name 'insert_customer' is not defined",
     "output_type": "error",
     "traceback": [
      "\u001b[1;31m---------------------------------------------------------------------------\u001b[0m",
      "\u001b[1;31mNameError\u001b[0m                                 Traceback (most recent call last)",
      "Cell \u001b[1;32mIn[42], line 3\u001b[0m\n\u001b[0;32m      1\u001b[0m \u001b[38;5;66;03m# 업무처리 함수(로직)\u001b[39;00m\n\u001b[0;32m      2\u001b[0m \u001b[38;5;28;01mwith\u001b[39;00m pymysql\u001b[38;5;241m.\u001b[39mconnect(host \u001b[38;5;241m=\u001b[39m\u001b[38;5;124m'\u001b[39m\u001b[38;5;124m127.0.0.1\u001b[39m\u001b[38;5;124m'\u001b[39m, port\u001b[38;5;241m=\u001b[39m\u001b[38;5;241m3306\u001b[39m, user\u001b[38;5;241m=\u001b[39m\u001b[38;5;124m'\u001b[39m\u001b[38;5;124mhappy_noodle\u001b[39m\u001b[38;5;124m'\u001b[39m,password \u001b[38;5;241m=\u001b[39m\u001b[38;5;124m'\u001b[39m\u001b[38;5;124m3535\u001b[39m\u001b[38;5;124m'\u001b[39m, db\u001b[38;5;241m=\u001b[39m\u001b[38;5;124m'\u001b[39m\u001b[38;5;124mmydb\u001b[39m\u001b[38;5;124m'\u001b[39m) \u001b[38;5;28;01mas\u001b[39;00m conn:\n\u001b[1;32m----> 3\u001b[0m         \u001b[43minsert_customer\u001b[49m(conn, \u001b[38;5;124m\"\u001b[39m\u001b[38;5;124m이름100\u001b[39m\u001b[38;5;124m\"\u001b[39m, \u001b[38;5;124m\"\u001b[39m\u001b[38;5;124m이메일100\u001b[39m\u001b[38;5;124m\"\u001b[39m,\u001b[38;5;241m192.2\u001b[39m,\u001b[38;5;124m'\u001b[39m\u001b[38;5;124m1999-10-01\u001b[39m\u001b[38;5;124m'\u001b[39m)\n\u001b[0;32m      4\u001b[0m         insert_customer(conn, \u001b[38;5;124m\"\u001b[39m\u001b[38;5;124m이름101\u001b[39m\u001b[38;5;124m\"\u001b[39m, \u001b[38;5;124m\"\u001b[39m\u001b[38;5;124m이메일101\u001b[39m\u001b[38;5;124m\"\u001b[39m,\u001b[38;5;241m192.2\u001b[39m,\u001b[38;5;124m'\u001b[39m\u001b[38;5;124m1999-10-01\u001b[39m\u001b[38;5;124m'\u001b[39m)\n\u001b[0;32m      5\u001b[0m         insert_customer(conn, \u001b[38;5;124m\"\u001b[39m\u001b[38;5;124m이름102\u001b[39m\u001b[38;5;124m\"\u001b[39m, \u001b[38;5;124m\"\u001b[39m\u001b[38;5;124m이메일102\u001b[39m\u001b[38;5;124m\"\u001b[39m,\u001b[38;5;241m192.2\u001b[39m,\u001b[38;5;124m'\u001b[39m\u001b[38;5;124m1999-10-01\u001b[39m\u001b[38;5;124m'\u001b[39m)\n",
      "\u001b[1;31mNameError\u001b[0m: name 'insert_customer' is not defined"
     ]
    }
   ],
   "source": [
    "# 업무처리 함수(로직) # 매뉴얼 커밋 형태\n",
    "with pymysql.connect(host ='127.0.0.1', port=3306, user='happy_noodle',password ='3535', db='mydb') as conn:\n",
    "        insert_customer(conn, \"이름100\", \"이메일100\",192.2,'1999-10-01')\n",
    "        insert_customer(conn, \"이름101\", \"이메일101\",192.2,'1999-10-01')\n",
    "        insert_customer(conn, \"이름102\", \"이메일102\",192.2,'1999-10-01')\n",
    "        conn.rollback()\n",
    "                     "
   ]
  },
  {
   "cell_type": "markdown",
   "id": "734f7bdb-1d15-4714-bb58-74b22fe3c76d",
   "metadata": {},
   "source": [
    "# TODO\n",
    "\n",
    "다음 함수들을 구현하시오.  \n",
    "각 함수들은 member 테이블과 관련해서 CRUD를 처리하는 함수들 입니다.\n",
    "\n",
    "1. name, email, tall, birthday를 매개변수로 받아서 insert하는 함수. (id는 자동증가, created_at은 실행시점의 일시가 insert되도록 한다.)"
   ]
  },
  {
   "cell_type": "code",
   "execution_count": null,
   "id": "5a927bc4-2fa1-4158-b69d-75149867a402",
   "metadata": {},
   "outputs": [],
   "source": []
  },
  {
   "cell_type": "code",
   "execution_count": 38,
   "id": "162b6ab3-8b49-4a49-ad76-f4a7583798ce",
   "metadata": {},
   "outputs": [
    {
     "name": "stdout",
     "output_type": "stream",
     "text": [
      "Writing customer_db.py\n"
     ]
    }
   ],
   "source": [
    "%%writefile customer_db.py\n",
    "# autocommit 함수 -> manual commit .. \n",
    "import pymysql\n",
    "\n",
    "def insert_member(conn, name,email,tall,birthday):\n",
    "    sql = \"insert into customer(name,email,tall,birthday,created_at) values(%s,%s,%s,%s,now())\"\n",
    "    with pymysql.connect(host ='127.0.0.1', port=3306, user='happy_noodle',password ='3535', db='mydb') as conn:\n",
    "        with conn.cursor() as cursor:\n",
    "            return cursor.execute(sql, [name,email,tall,birthday])           "
   ]
  },
  {
   "cell_type": "code",
   "execution_count": null,
   "id": "47b2e138-6b02-4ca6-b31d-93d3249445ba",
   "metadata": {},
   "outputs": [],
   "source": [
    "# manual commit - sql function doesn't commit. One calling must commit/rollback.\n",
    "# creating connection(connecting to DB) -> caller would create \n",
    "# sql functions get connection as parameter to create a cursor.\n",
    "import pymysql\n",
    "\n",
    "def insert_member(name,email,tall,birthday):\n",
    "    sql = \"insert into customer(name,email,tall,birthday,created_at) values(%s,%s,%s,%s,now())\"\n",
    "    with pymysql.connect(host ='127.0.0.1', port=3306, user='happy_noodle',password ='3535', db='mydb') as conn:\n",
    "        with conn.cursor() as cursor:\n",
    "            result = cursor.execute(sql, [name,email,tall,birthday])\n",
    "            conn.commit()\n",
    "    return result\n",
    "\n",
    "def update_customer(conn, cust_id, name, email, tall, birthday):\n",
    "    sql = \"update customer set name =%s, email =%s, tall = %s, birthday = % where id=%s\"\n",
    "    with pymysql.connect(host ='127.0.0.1', port=3306, user='happy_noodle',password ='3535', db='mydb') as conn:\n",
    "        with conn.cursor() as cursor:\n",
    "            return cursor.execute(sql,[name,email,tall,birthday, cust_id])\n",
    "\n",
    "\n",
    "def delete_customer_by_id(conn,cust_id):\n",
    "    sql ='delete from customer where id=%s'\n",
    "    with pymysql.connect(host ='127.0.0.1', port=3306, user='happy_noodle',password ='3535', db='mydb') as conn:\n",
    "            with conn.cursor() as cursor:\n",
    "                return cursor.execute(sql,[cust_id])\n",
    "\n",
    "def select_customers(conn): # 전체조회\n",
    "    sql = \"select * from customer\"\n",
    "    with conn.cursor() as cursor:\n",
    "        cursor.execute(sql)\n",
    "        return cursor.fetchall()\n"
   ]
  },
  {
   "cell_type": "code",
   "execution_count": 10,
   "id": "7dac290e-0f96-471e-88bc-8590cd815579",
   "metadata": {},
   "outputs": [
    {
     "data": {
      "text/plain": [
       "1"
      ]
     },
     "execution_count": 10,
     "metadata": {},
     "output_type": "execute_result"
    }
   ],
   "source": [
    "insert_member('새이름', '새이메일','180.2', '2000-10-10')"
   ]
  },
  {
   "cell_type": "code",
   "execution_count": 39,
   "id": "6e4182c2-94f1-4e65-8f8e-855213e30f99",
   "metadata": {},
   "outputs": [
    {
     "ename": "AttributeError",
     "evalue": "module 'customer_db' has no attribute 'select_customer_by_id'",
     "output_type": "error",
     "traceback": [
      "\u001b[1;31m---------------------------------------------------------------------------\u001b[0m",
      "\u001b[1;31mAttributeError\u001b[0m                            Traceback (most recent call last)",
      "Cell \u001b[1;32mIn[39], line 2\u001b[0m\n\u001b[0;32m      1\u001b[0m \u001b[38;5;28;01mimport\u001b[39;00m \u001b[38;5;21;01mcustomer_db\u001b[39;00m \u001b[38;5;28;01mas\u001b[39;00m \u001b[38;5;21;01mcdb\u001b[39;00m\n\u001b[1;32m----> 2\u001b[0m \u001b[43mcdb\u001b[49m\u001b[38;5;241;43m.\u001b[39;49m\u001b[43mselect_customer_by_id\u001b[49m(\u001b[38;5;241m12\u001b[39m)\n",
      "\u001b[1;31mAttributeError\u001b[0m: module 'customer_db' has no attribute 'select_customer_by_id'"
     ]
    }
   ],
   "source": [
    "import customer_db as cdb\n",
    "cdb.select_customer_by_id(12)"
   ]
  },
  {
   "cell_type": "markdown",
   "id": "0c5cd0e9-98f1-4193-a44d-af24977dcd9f",
   "metadata": {},
   "source": [
    "2. id, name, email, tall, birthday를 매개변수로 받아서 id의 member의 나머지 정보를 update하는 함수. (created_at은 update하지 않는다.)"
   ]
  },
  {
   "cell_type": "code",
   "execution_count": null,
   "id": "8cf1ad94-7ec8-47b2-b551-3265e2c36349",
   "metadata": {},
   "outputs": [],
   "source": []
  },
  {
   "cell_type": "code",
   "execution_count": 19,
   "id": "d83f4c4e-2379-4d5e-ada7-9f5d2bc7136e",
   "metadata": {},
   "outputs": [],
   "source": [
    "def update_customer(cust_id, name, email, tall, birthday):\n",
    "    sql = \"update customer set name =%s, email =%s, tall = %s, birthday = % where id=%s\"\n",
    "    with pymysql.connect(host ='127.0.0.1', port=3306, user='happy_noodle',password ='3535', db='mydb') as conn:\n",
    "        with conn.cursor() as cursor:\n",
    "            result = cursor.execute(sql,[name,email,tall,birthday, cust_id])\n",
    "            conn.commit()\n",
    "    return result"
   ]
  },
  {
   "cell_type": "code",
   "execution_count": 21,
   "id": "f4d8374f-26a6-4314-8d03-182d642a4269",
   "metadata": {},
   "outputs": [
    {
     "ename": "ValueError",
     "evalue": "unsupported format character 'w' (0x77) at index 65",
     "output_type": "error",
     "traceback": [
      "\u001b[1;31m---------------------------------------------------------------------------\u001b[0m",
      "\u001b[1;31mValueError\u001b[0m                                Traceback (most recent call last)",
      "Cell \u001b[1;32mIn[21], line 1\u001b[0m\n\u001b[1;32m----> 1\u001b[0m \u001b[43mupdate_customer\u001b[49m\u001b[43m(\u001b[49m\u001b[38;5;124;43m'\u001b[39;49m\u001b[38;5;124;43m바뀐이름\u001b[39;49m\u001b[38;5;124;43m'\u001b[39;49m\u001b[43m,\u001b[49m\u001b[38;5;124;43m'\u001b[39;49m\u001b[38;5;124;43m바뀐이메일\u001b[39;49m\u001b[38;5;124;43m'\u001b[39;49m\u001b[43m,\u001b[49m\u001b[38;5;241;43m200.20\u001b[39;49m\u001b[43m,\u001b[49m\u001b[38;5;124;43m'\u001b[39;49m\u001b[38;5;124;43m2010-11-22\u001b[39;49m\u001b[38;5;124;43m'\u001b[39;49m\u001b[43m,\u001b[49m\u001b[38;5;241;43m27\u001b[39;49m\u001b[43m)\u001b[49m\n",
      "Cell \u001b[1;32mIn[19], line 5\u001b[0m, in \u001b[0;36mupdate_customer\u001b[1;34m(cust_id, name, email, tall, birthday)\u001b[0m\n\u001b[0;32m      3\u001b[0m \u001b[38;5;28;01mwith\u001b[39;00m pymysql\u001b[38;5;241m.\u001b[39mconnect(host \u001b[38;5;241m=\u001b[39m\u001b[38;5;124m'\u001b[39m\u001b[38;5;124m127.0.0.1\u001b[39m\u001b[38;5;124m'\u001b[39m, port\u001b[38;5;241m=\u001b[39m\u001b[38;5;241m3306\u001b[39m, user\u001b[38;5;241m=\u001b[39m\u001b[38;5;124m'\u001b[39m\u001b[38;5;124mhappy_noodle\u001b[39m\u001b[38;5;124m'\u001b[39m,password \u001b[38;5;241m=\u001b[39m\u001b[38;5;124m'\u001b[39m\u001b[38;5;124m3535\u001b[39m\u001b[38;5;124m'\u001b[39m, db\u001b[38;5;241m=\u001b[39m\u001b[38;5;124m'\u001b[39m\u001b[38;5;124mmydb\u001b[39m\u001b[38;5;124m'\u001b[39m) \u001b[38;5;28;01mas\u001b[39;00m conn:\n\u001b[0;32m      4\u001b[0m     \u001b[38;5;28;01mwith\u001b[39;00m conn\u001b[38;5;241m.\u001b[39mcursor() \u001b[38;5;28;01mas\u001b[39;00m cursor:\n\u001b[1;32m----> 5\u001b[0m         result \u001b[38;5;241m=\u001b[39m \u001b[43mcursor\u001b[49m\u001b[38;5;241;43m.\u001b[39;49m\u001b[43mexecute\u001b[49m\u001b[43m(\u001b[49m\u001b[43msql\u001b[49m\u001b[43m,\u001b[49m\u001b[43m[\u001b[49m\u001b[43mname\u001b[49m\u001b[43m,\u001b[49m\u001b[43memail\u001b[49m\u001b[43m,\u001b[49m\u001b[43mtall\u001b[49m\u001b[43m,\u001b[49m\u001b[43mbirthday\u001b[49m\u001b[43m,\u001b[49m\u001b[43m \u001b[49m\u001b[43mcust_id\u001b[49m\u001b[43m]\u001b[49m\u001b[43m)\u001b[49m\n\u001b[0;32m      6\u001b[0m         conn\u001b[38;5;241m.\u001b[39mcommit()\n\u001b[0;32m      7\u001b[0m \u001b[38;5;28;01mreturn\u001b[39;00m result\n",
      "File \u001b[1;32mC:\\Classes\\eddie_python\\env\\Lib\\site-packages\\pymysql\\cursors.py:151\u001b[0m, in \u001b[0;36mCursor.execute\u001b[1;34m(self, query, args)\u001b[0m\n\u001b[0;32m    148\u001b[0m \u001b[38;5;28;01mwhile\u001b[39;00m \u001b[38;5;28mself\u001b[39m\u001b[38;5;241m.\u001b[39mnextset():\n\u001b[0;32m    149\u001b[0m     \u001b[38;5;28;01mpass\u001b[39;00m\n\u001b[1;32m--> 151\u001b[0m query \u001b[38;5;241m=\u001b[39m \u001b[38;5;28;43mself\u001b[39;49m\u001b[38;5;241;43m.\u001b[39;49m\u001b[43mmogrify\u001b[49m\u001b[43m(\u001b[49m\u001b[43mquery\u001b[49m\u001b[43m,\u001b[49m\u001b[43m \u001b[49m\u001b[43margs\u001b[49m\u001b[43m)\u001b[49m\n\u001b[0;32m    153\u001b[0m result \u001b[38;5;241m=\u001b[39m \u001b[38;5;28mself\u001b[39m\u001b[38;5;241m.\u001b[39m_query(query)\n\u001b[0;32m    154\u001b[0m \u001b[38;5;28mself\u001b[39m\u001b[38;5;241m.\u001b[39m_executed \u001b[38;5;241m=\u001b[39m query\n",
      "File \u001b[1;32mC:\\Classes\\eddie_python\\env\\Lib\\site-packages\\pymysql\\cursors.py:129\u001b[0m, in \u001b[0;36mCursor.mogrify\u001b[1;34m(self, query, args)\u001b[0m\n\u001b[0;32m    126\u001b[0m conn \u001b[38;5;241m=\u001b[39m \u001b[38;5;28mself\u001b[39m\u001b[38;5;241m.\u001b[39m_get_db()\n\u001b[0;32m    128\u001b[0m \u001b[38;5;28;01mif\u001b[39;00m args \u001b[38;5;129;01mis\u001b[39;00m \u001b[38;5;129;01mnot\u001b[39;00m \u001b[38;5;28;01mNone\u001b[39;00m:\n\u001b[1;32m--> 129\u001b[0m     query \u001b[38;5;241m=\u001b[39m \u001b[43mquery\u001b[49m\u001b[43m \u001b[49m\u001b[38;5;241;43m%\u001b[39;49m\u001b[43m \u001b[49m\u001b[38;5;28;43mself\u001b[39;49m\u001b[38;5;241;43m.\u001b[39;49m\u001b[43m_escape_args\u001b[49m\u001b[43m(\u001b[49m\u001b[43margs\u001b[49m\u001b[43m,\u001b[49m\u001b[43m \u001b[49m\u001b[43mconn\u001b[49m\u001b[43m)\u001b[49m\n\u001b[0;32m    131\u001b[0m \u001b[38;5;28;01mreturn\u001b[39;00m query\n",
      "\u001b[1;31mValueError\u001b[0m: unsupported format character 'w' (0x77) at index 65"
     ]
    }
   ],
   "source": [
    "update_customer('바뀐이름','바뀐이메일',200.20,'2010-11-22',27)"
   ]
  },
  {
   "cell_type": "markdown",
   "id": "27a6c6be-7e3b-494f-a638-153a3bb04acb",
   "metadata": {},
   "source": [
    "3. id를 매개변수로 받아서 그 member 를 삭제하는 함수."
   ]
  },
  {
   "cell_type": "code",
   "execution_count": 23,
   "id": "c58282fc-c7c6-4d2a-b38d-55805dc7e67a",
   "metadata": {},
   "outputs": [],
   "source": [
    "def delete_customer_by_id(cust_id):\n",
    "    sql ='delete from customer where id=%s'\n",
    "    with pymysql.connect(host ='127.0.0.1', port=3306, user='happy_noodle',password ='3535', db='mydb') as conn:\n",
    "            with conn.cursor() as cursor:\n",
    "                result = cursor.execute(sql,[cust_id])\n",
    "                conn.commit()\n",
    "    return result\n",
    "\n",
    "\n",
    "\n"
   ]
  },
  {
   "cell_type": "code",
   "execution_count": 24,
   "id": "e35da35d-a24c-41c7-8a91-2eb81a8349dd",
   "metadata": {},
   "outputs": [
    {
     "data": {
      "text/plain": [
       "1"
      ]
     },
     "execution_count": 24,
     "metadata": {},
     "output_type": "execute_result"
    }
   ],
   "source": [
    "delete_customer_by_id(27)"
   ]
  },
  {
   "cell_type": "markdown",
   "id": "c1b36297-17e0-490b-ad31-d24179480a5b",
   "metadata": {},
   "source": [
    "5. 이름을 매개변수로 받아서 그 이름의 member를 삭제하는 함수."
   ]
  },
  {
   "cell_type": "code",
   "execution_count": 26,
   "id": "723e86cd-33a7-419b-8d5f-ceae4c75c9c5",
   "metadata": {},
   "outputs": [],
   "source": [
    "def delete_customer_by_name(name):\n",
    "    sql ='delete from customer where name=%s'\n",
    "    with pymysql.connect(host ='127.0.0.1', port=3306, user='happy_noodle',password ='3535', db='mydb') as conn:\n",
    "            with conn.cursor() as cursor:\n",
    "                result = cursor.execute(sql,[name])\n",
    "                conn.commit()\n",
    "    return result\n"
   ]
  },
  {
   "cell_type": "code",
   "execution_count": 27,
   "id": "c7df00a3-bd3f-4119-bbdd-05701b1857a0",
   "metadata": {},
   "outputs": [
    {
     "data": {
      "text/plain": [
       "2"
      ]
     },
     "execution_count": 27,
     "metadata": {},
     "output_type": "execute_result"
    }
   ],
   "source": [
    "delete_customer_by_name('이름1')"
   ]
  },
  {
   "cell_type": "markdown",
   "id": "5e8605ca-fbc0-4ae6-9dd0-7240f97912a3",
   "metadata": {},
   "source": [
    "7. id를 매개변수로 받아서 그 id의 회원 정보를 조회하여 반환하는 함수."
   ]
  },
  {
   "cell_type": "code",
   "execution_count": 29,
   "id": "9c371d21-e49b-4f1b-be00-2a82b7cd8faa",
   "metadata": {},
   "outputs": [],
   "source": [
    "def select_customer_by_id(cust_id):\n",
    "    sql = 'select * from customer where id = %s' # pk 조건으로 조회: 결과행 - 1행 => fetchone()\n",
    "    with pymysql.connect(host ='127.0.0.1', port=3306, user='happy_noodle',password ='3535', db='mydb') as conn:\n",
    "            with conn.cursor() as cursor:\n",
    "                cursor.execute(sql,[cust_id]) \n",
    "                return cursor.fetchone() #커밋 할 필요 없음\n"
   ]
  },
  {
   "cell_type": "code",
   "execution_count": 31,
   "id": "b328c6a8-cda0-40c9-86b3-512f8ea21538",
   "metadata": {},
   "outputs": [
    {
     "data": {
      "text/plain": [
       "(12,\n",
       " 'name2',\n",
       " 'def1@abc.com',\n",
       " Decimal('175.00'),\n",
       " datetime.date(1995, 12, 20),\n",
       " datetime.datetime(2024, 3, 22, 16, 7, 42))"
      ]
     },
     "execution_count": 31,
     "metadata": {},
     "output_type": "execute_result"
    }
   ],
   "source": [
    "select_customer_by_id(12)"
   ]
  },
  {
   "cell_type": "markdown",
   "id": "962fb941-8e65-49cb-a8ea-f4d82200af92",
   "metadata": {},
   "source": [
    "8. name을 매개변수로 받아서 그 이름이 들어간 회원의 정보를 조회하여 반환하는 함수."
   ]
  },
  {
   "cell_type": "code",
   "execution_count": 32,
   "id": "547bbdeb-67de-4875-a3cd-6c619f728482",
   "metadata": {},
   "outputs": [],
   "source": [
    "def select_customer_by_name(name):\n",
    "    # 조회조건이 unique 하지 않은 컬럼: 결과행 : 0 ~N행 => fetchall()\n",
    "    sql = \"select * from customer where name = %s\"\n",
    "    with pymysql.connect(host ='127.0.0.1', port=3306, user='happy_noodle',password ='3535', db='mydb') as conn:\n",
    "            with conn.cursor() as cursor:\n",
    "                cursor.execute(sql,[name]) \n",
    "                return cursor.fetchall() "
   ]
  },
  {
   "cell_type": "code",
   "execution_count": 33,
   "id": "bff2831a-f743-4b24-833c-75cc656ade35",
   "metadata": {},
   "outputs": [
    {
     "data": {
      "text/plain": [
       "((12,\n",
       "  'name2',\n",
       "  'def1@abc.com',\n",
       "  Decimal('175.00'),\n",
       "  datetime.date(1995, 12, 20),\n",
       "  datetime.datetime(2024, 3, 22, 16, 7, 42)),)"
      ]
     },
     "execution_count": 33,
     "metadata": {},
     "output_type": "execute_result"
    }
   ],
   "source": [
    "select_customer_by_name('name2')"
   ]
  },
  {
   "cell_type": "markdown",
   "id": "63ae572f-37f0-4861-9920-b3abbf786df6",
   "metadata": {},
   "source": [
    "9. birthday를 매개변수로 받아서 그 생일의 회원의 정보를 조회하여 반환하는 함수."
   ]
  },
  {
   "cell_type": "code",
   "execution_count": null,
   "id": "06d834fc-1249-4c4e-8ffb-91aa3a50eb75",
   "metadata": {},
   "outputs": [],
   "source": [
    "# 똑같으니 넘어감. 나는 풀어보기"
   ]
  },
  {
   "cell_type": "markdown",
   "id": "75624633-7b2a-4bf8-a077-1b5fa925b5a8",
   "metadata": {},
   "source": [
    "10. tall 값을 두개 받아서 그 범위의 tall인 회원들의 정보를 조회하여 반환하는 함수.\n",
    "\n",
    "-   insert, update, delete 는 적용된 행의 개수를 반환한다.\n",
    "-   select 처리 함수는 조회결과를 반환한다."
   ]
  },
  {
   "cell_type": "code",
   "execution_count": 36,
   "id": "7d8e9ed5",
   "metadata": {},
   "outputs": [],
   "source": [
    "def select_customer_by_tall_range(start_tall, stop_tall):\n",
    "    sql = 'select * from customer where tall bewtween %s and %s'# like도 쓸 수 있음\n",
    "    with pymysql.connect(host ='127.0.0.1', port=3306, user='happy_noodle',password ='3535', db='mydb') as conn:\n",
    "            with conn.cursor() as cursor:\n",
    "                cursor.execute(sql,[start_tall, stop_tall]) \n",
    "                return cursor.fetchall()\n",
    "    "
   ]
  },
  {
   "cell_type": "code",
   "execution_count": 37,
   "id": "e2f28cf5-5af1-4b56-8e06-f26e45eb03f6",
   "metadata": {},
   "outputs": [
    {
     "ename": "ProgrammingError",
     "evalue": "(1064, \"You have an error in your SQL syntax; check the manual that corresponds to your MySQL server version for the right syntax to use near 'bewtween 150 and 200' at line 1\")",
     "output_type": "error",
     "traceback": [
      "\u001b[1;31m---------------------------------------------------------------------------\u001b[0m",
      "\u001b[1;31mProgrammingError\u001b[0m                          Traceback (most recent call last)",
      "Cell \u001b[1;32mIn[37], line 1\u001b[0m\n\u001b[1;32m----> 1\u001b[0m \u001b[43mselect_customer_by_tall_range\u001b[49m\u001b[43m(\u001b[49m\u001b[38;5;241;43m150\u001b[39;49m\u001b[43m,\u001b[49m\u001b[38;5;241;43m200\u001b[39;49m\u001b[43m)\u001b[49m\n",
      "Cell \u001b[1;32mIn[36], line 5\u001b[0m, in \u001b[0;36mselect_customer_by_tall_range\u001b[1;34m(start_tall, stop_tall)\u001b[0m\n\u001b[0;32m      3\u001b[0m \u001b[38;5;28;01mwith\u001b[39;00m pymysql\u001b[38;5;241m.\u001b[39mconnect(host \u001b[38;5;241m=\u001b[39m\u001b[38;5;124m'\u001b[39m\u001b[38;5;124m127.0.0.1\u001b[39m\u001b[38;5;124m'\u001b[39m, port\u001b[38;5;241m=\u001b[39m\u001b[38;5;241m3306\u001b[39m, user\u001b[38;5;241m=\u001b[39m\u001b[38;5;124m'\u001b[39m\u001b[38;5;124mhappy_noodle\u001b[39m\u001b[38;5;124m'\u001b[39m,password \u001b[38;5;241m=\u001b[39m\u001b[38;5;124m'\u001b[39m\u001b[38;5;124m3535\u001b[39m\u001b[38;5;124m'\u001b[39m, db\u001b[38;5;241m=\u001b[39m\u001b[38;5;124m'\u001b[39m\u001b[38;5;124mmydb\u001b[39m\u001b[38;5;124m'\u001b[39m) \u001b[38;5;28;01mas\u001b[39;00m conn:\n\u001b[0;32m      4\u001b[0m         \u001b[38;5;28;01mwith\u001b[39;00m conn\u001b[38;5;241m.\u001b[39mcursor() \u001b[38;5;28;01mas\u001b[39;00m cursor:\n\u001b[1;32m----> 5\u001b[0m             \u001b[43mcursor\u001b[49m\u001b[38;5;241;43m.\u001b[39;49m\u001b[43mexecute\u001b[49m\u001b[43m(\u001b[49m\u001b[43msql\u001b[49m\u001b[43m,\u001b[49m\u001b[43m[\u001b[49m\u001b[43mstart_tall\u001b[49m\u001b[43m,\u001b[49m\u001b[43m \u001b[49m\u001b[43mstop_tall\u001b[49m\u001b[43m]\u001b[49m\u001b[43m)\u001b[49m \n\u001b[0;32m      6\u001b[0m             \u001b[38;5;28;01mreturn\u001b[39;00m cursor\u001b[38;5;241m.\u001b[39mfetchall()\n",
      "File \u001b[1;32mC:\\Classes\\eddie_python\\env\\Lib\\site-packages\\pymysql\\cursors.py:153\u001b[0m, in \u001b[0;36mCursor.execute\u001b[1;34m(self, query, args)\u001b[0m\n\u001b[0;32m    149\u001b[0m     \u001b[38;5;28;01mpass\u001b[39;00m\n\u001b[0;32m    151\u001b[0m query \u001b[38;5;241m=\u001b[39m \u001b[38;5;28mself\u001b[39m\u001b[38;5;241m.\u001b[39mmogrify(query, args)\n\u001b[1;32m--> 153\u001b[0m result \u001b[38;5;241m=\u001b[39m \u001b[38;5;28;43mself\u001b[39;49m\u001b[38;5;241;43m.\u001b[39;49m\u001b[43m_query\u001b[49m\u001b[43m(\u001b[49m\u001b[43mquery\u001b[49m\u001b[43m)\u001b[49m\n\u001b[0;32m    154\u001b[0m \u001b[38;5;28mself\u001b[39m\u001b[38;5;241m.\u001b[39m_executed \u001b[38;5;241m=\u001b[39m query\n\u001b[0;32m    155\u001b[0m \u001b[38;5;28;01mreturn\u001b[39;00m result\n",
      "File \u001b[1;32mC:\\Classes\\eddie_python\\env\\Lib\\site-packages\\pymysql\\cursors.py:322\u001b[0m, in \u001b[0;36mCursor._query\u001b[1;34m(self, q)\u001b[0m\n\u001b[0;32m    320\u001b[0m conn \u001b[38;5;241m=\u001b[39m \u001b[38;5;28mself\u001b[39m\u001b[38;5;241m.\u001b[39m_get_db()\n\u001b[0;32m    321\u001b[0m \u001b[38;5;28mself\u001b[39m\u001b[38;5;241m.\u001b[39m_clear_result()\n\u001b[1;32m--> 322\u001b[0m \u001b[43mconn\u001b[49m\u001b[38;5;241;43m.\u001b[39;49m\u001b[43mquery\u001b[49m\u001b[43m(\u001b[49m\u001b[43mq\u001b[49m\u001b[43m)\u001b[49m\n\u001b[0;32m    323\u001b[0m \u001b[38;5;28mself\u001b[39m\u001b[38;5;241m.\u001b[39m_do_get_result()\n\u001b[0;32m    324\u001b[0m \u001b[38;5;28;01mreturn\u001b[39;00m \u001b[38;5;28mself\u001b[39m\u001b[38;5;241m.\u001b[39mrowcount\n",
      "File \u001b[1;32mC:\\Classes\\eddie_python\\env\\Lib\\site-packages\\pymysql\\connections.py:558\u001b[0m, in \u001b[0;36mConnection.query\u001b[1;34m(self, sql, unbuffered)\u001b[0m\n\u001b[0;32m    556\u001b[0m     sql \u001b[38;5;241m=\u001b[39m sql\u001b[38;5;241m.\u001b[39mencode(\u001b[38;5;28mself\u001b[39m\u001b[38;5;241m.\u001b[39mencoding, \u001b[38;5;124m\"\u001b[39m\u001b[38;5;124msurrogateescape\u001b[39m\u001b[38;5;124m\"\u001b[39m)\n\u001b[0;32m    557\u001b[0m \u001b[38;5;28mself\u001b[39m\u001b[38;5;241m.\u001b[39m_execute_command(COMMAND\u001b[38;5;241m.\u001b[39mCOM_QUERY, sql)\n\u001b[1;32m--> 558\u001b[0m \u001b[38;5;28mself\u001b[39m\u001b[38;5;241m.\u001b[39m_affected_rows \u001b[38;5;241m=\u001b[39m \u001b[38;5;28;43mself\u001b[39;49m\u001b[38;5;241;43m.\u001b[39;49m\u001b[43m_read_query_result\u001b[49m\u001b[43m(\u001b[49m\u001b[43munbuffered\u001b[49m\u001b[38;5;241;43m=\u001b[39;49m\u001b[43munbuffered\u001b[49m\u001b[43m)\u001b[49m\n\u001b[0;32m    559\u001b[0m \u001b[38;5;28;01mreturn\u001b[39;00m \u001b[38;5;28mself\u001b[39m\u001b[38;5;241m.\u001b[39m_affected_rows\n",
      "File \u001b[1;32mC:\\Classes\\eddie_python\\env\\Lib\\site-packages\\pymysql\\connections.py:822\u001b[0m, in \u001b[0;36mConnection._read_query_result\u001b[1;34m(self, unbuffered)\u001b[0m\n\u001b[0;32m    820\u001b[0m \u001b[38;5;28;01melse\u001b[39;00m:\n\u001b[0;32m    821\u001b[0m     result \u001b[38;5;241m=\u001b[39m MySQLResult(\u001b[38;5;28mself\u001b[39m)\n\u001b[1;32m--> 822\u001b[0m     \u001b[43mresult\u001b[49m\u001b[38;5;241;43m.\u001b[39;49m\u001b[43mread\u001b[49m\u001b[43m(\u001b[49m\u001b[43m)\u001b[49m\n\u001b[0;32m    823\u001b[0m \u001b[38;5;28mself\u001b[39m\u001b[38;5;241m.\u001b[39m_result \u001b[38;5;241m=\u001b[39m result\n\u001b[0;32m    824\u001b[0m \u001b[38;5;28;01mif\u001b[39;00m result\u001b[38;5;241m.\u001b[39mserver_status \u001b[38;5;129;01mis\u001b[39;00m \u001b[38;5;129;01mnot\u001b[39;00m \u001b[38;5;28;01mNone\u001b[39;00m:\n",
      "File \u001b[1;32mC:\\Classes\\eddie_python\\env\\Lib\\site-packages\\pymysql\\connections.py:1200\u001b[0m, in \u001b[0;36mMySQLResult.read\u001b[1;34m(self)\u001b[0m\n\u001b[0;32m   1198\u001b[0m \u001b[38;5;28;01mdef\u001b[39;00m \u001b[38;5;21mread\u001b[39m(\u001b[38;5;28mself\u001b[39m):\n\u001b[0;32m   1199\u001b[0m     \u001b[38;5;28;01mtry\u001b[39;00m:\n\u001b[1;32m-> 1200\u001b[0m         first_packet \u001b[38;5;241m=\u001b[39m \u001b[38;5;28;43mself\u001b[39;49m\u001b[38;5;241;43m.\u001b[39;49m\u001b[43mconnection\u001b[49m\u001b[38;5;241;43m.\u001b[39;49m\u001b[43m_read_packet\u001b[49m\u001b[43m(\u001b[49m\u001b[43m)\u001b[49m\n\u001b[0;32m   1202\u001b[0m         \u001b[38;5;28;01mif\u001b[39;00m first_packet\u001b[38;5;241m.\u001b[39mis_ok_packet():\n\u001b[0;32m   1203\u001b[0m             \u001b[38;5;28mself\u001b[39m\u001b[38;5;241m.\u001b[39m_read_ok_packet(first_packet)\n",
      "File \u001b[1;32mC:\\Classes\\eddie_python\\env\\Lib\\site-packages\\pymysql\\connections.py:772\u001b[0m, in \u001b[0;36mConnection._read_packet\u001b[1;34m(self, packet_type)\u001b[0m\n\u001b[0;32m    770\u001b[0m     \u001b[38;5;28;01mif\u001b[39;00m \u001b[38;5;28mself\u001b[39m\u001b[38;5;241m.\u001b[39m_result \u001b[38;5;129;01mis\u001b[39;00m \u001b[38;5;129;01mnot\u001b[39;00m \u001b[38;5;28;01mNone\u001b[39;00m \u001b[38;5;129;01mand\u001b[39;00m \u001b[38;5;28mself\u001b[39m\u001b[38;5;241m.\u001b[39m_result\u001b[38;5;241m.\u001b[39munbuffered_active \u001b[38;5;129;01mis\u001b[39;00m \u001b[38;5;28;01mTrue\u001b[39;00m:\n\u001b[0;32m    771\u001b[0m         \u001b[38;5;28mself\u001b[39m\u001b[38;5;241m.\u001b[39m_result\u001b[38;5;241m.\u001b[39munbuffered_active \u001b[38;5;241m=\u001b[39m \u001b[38;5;28;01mFalse\u001b[39;00m\n\u001b[1;32m--> 772\u001b[0m     \u001b[43mpacket\u001b[49m\u001b[38;5;241;43m.\u001b[39;49m\u001b[43mraise_for_error\u001b[49m\u001b[43m(\u001b[49m\u001b[43m)\u001b[49m\n\u001b[0;32m    773\u001b[0m \u001b[38;5;28;01mreturn\u001b[39;00m packet\n",
      "File \u001b[1;32mC:\\Classes\\eddie_python\\env\\Lib\\site-packages\\pymysql\\protocol.py:221\u001b[0m, in \u001b[0;36mMysqlPacket.raise_for_error\u001b[1;34m(self)\u001b[0m\n\u001b[0;32m    219\u001b[0m \u001b[38;5;28;01mif\u001b[39;00m DEBUG:\n\u001b[0;32m    220\u001b[0m     \u001b[38;5;28mprint\u001b[39m(\u001b[38;5;124m\"\u001b[39m\u001b[38;5;124merrno =\u001b[39m\u001b[38;5;124m\"\u001b[39m, errno)\n\u001b[1;32m--> 221\u001b[0m \u001b[43merr\u001b[49m\u001b[38;5;241;43m.\u001b[39;49m\u001b[43mraise_mysql_exception\u001b[49m\u001b[43m(\u001b[49m\u001b[38;5;28;43mself\u001b[39;49m\u001b[38;5;241;43m.\u001b[39;49m\u001b[43m_data\u001b[49m\u001b[43m)\u001b[49m\n",
      "File \u001b[1;32mC:\\Classes\\eddie_python\\env\\Lib\\site-packages\\pymysql\\err.py:143\u001b[0m, in \u001b[0;36mraise_mysql_exception\u001b[1;34m(data)\u001b[0m\n\u001b[0;32m    141\u001b[0m \u001b[38;5;28;01mif\u001b[39;00m errorclass \u001b[38;5;129;01mis\u001b[39;00m \u001b[38;5;28;01mNone\u001b[39;00m:\n\u001b[0;32m    142\u001b[0m     errorclass \u001b[38;5;241m=\u001b[39m InternalError \u001b[38;5;28;01mif\u001b[39;00m errno \u001b[38;5;241m<\u001b[39m \u001b[38;5;241m1000\u001b[39m \u001b[38;5;28;01melse\u001b[39;00m OperationalError\n\u001b[1;32m--> 143\u001b[0m \u001b[38;5;28;01mraise\u001b[39;00m errorclass(errno, errval)\n",
      "\u001b[1;31mProgrammingError\u001b[0m: (1064, \"You have an error in your SQL syntax; check the manual that corresponds to your MySQL server version for the right syntax to use near 'bewtween 150 and 200' at line 1\")"
     ]
    }
   ],
   "source": [
    "select_customer_by_tall_range(150,200)"
   ]
  },
  {
   "cell_type": "markdown",
   "id": "769990dc",
   "metadata": {},
   "source": [
    "# TODO\n",
    "\n",
    "-   hr database의 emp 테이블의 데이터를 다루는 함수들을 구현\n",
    "\n",
    "1. 직원 정보들(emp의 컬럼들)을 매개변수로 받아 insert 하는 함수\n",
    "\n",
    "2. 수정할 직원 정보들을 매개변수로 받아 받은 emp_id의 직원의 나머지 컬럼값들을 수정하는 함수\n",
    "\n",
    "3. emp_id를 매개변수로 받아 그 직원을 삭제하는 함수\n",
    "\n",
    "4. job을 매개변수로 받아 그 업무를 하는 직원들을 삭제하는 함수\n",
    "\n",
    "5. 전체 직원정보를 모두 조회해서 반환하는 함수\n",
    "\n",
    "6. emp_id를 매개변수로 받아 그 직원 정보를 조회해서 반환하는 함수\n",
    "\n",
    "7. dept_name을 매개변수로 받아서 그 부서에 소속된 직원들의 정보를 조회해서 반환하는 함수\n",
    "\n",
    "8. salary 범위를 매개변수로 받아 그 범위의 salary를 받는 직원들의 정보를 조회해서 반환하는 함수\n",
    "\n",
    "9. emp_id를 매개변수로 받아서 그 직원의 커미션이 얼마인지를(salary \\* comm_pct) 조회해 반환하는 함수\n",
    "\n",
    "10. dept_name을 매개변수로 받아서 부서별 급여 통계정보(합계, 최대, 최소, 평균, 표준편차)를 반환하는 함수\n"
   ]
  }
 ],
 "metadata": {
  "kernelspec": {
   "display_name": "Python 3 (ipykernel)",
   "language": "python",
   "name": "python3"
  },
  "language_info": {
   "codemirror_mode": {
    "name": "ipython",
    "version": 3
   },
   "file_extension": ".py",
   "mimetype": "text/x-python",
   "name": "python",
   "nbconvert_exporter": "python",
   "pygments_lexer": "ipython3",
   "version": "3.11.5"
  },
  "toc": {
   "base_numbering": 1,
   "nav_menu": {},
   "number_sections": false,
   "sideBar": true,
   "skip_h1_title": false,
   "title_cell": "Table of Contents",
   "title_sidebar": "Contents",
   "toc_cell": false,
   "toc_position": {},
   "toc_section_display": true,
   "toc_window_display": false
  },
  "varInspector": {
   "cols": {
    "lenName": 16,
    "lenType": 16,
    "lenVar": 40
   },
   "kernels_config": {
    "python": {
     "delete_cmd_postfix": "",
     "delete_cmd_prefix": "del ",
     "library": "var_list.py",
     "varRefreshCmd": "print(var_dic_list())"
    },
    "r": {
     "delete_cmd_postfix": ") ",
     "delete_cmd_prefix": "rm(",
     "library": "var_list.r",
     "varRefreshCmd": "cat(var_dic_list()) "
    }
   },
   "types_to_exclude": [
    "module",
    "function",
    "builtin_function_or_method",
    "instance",
    "_Feature"
   ],
   "window_display": false
  }
 },
 "nbformat": 4,
 "nbformat_minor": 5
}
