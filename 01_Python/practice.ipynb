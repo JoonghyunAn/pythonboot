{
 "cells": [
  {
   "cell_type": "code",
   "execution_count": 5,
   "id": "c9823f21-2cf6-442d-9e1d-bb51aa89dfa0",
   "metadata": {},
   "outputs": [
    {
     "name": "stdin",
     "output_type": "stream",
     "text": [
      "숫자: 30\n"
     ]
    }
   ],
   "source": [
    "a = int(input(\"숫자:\"))"
   ]
  },
  {
   "cell_type": "code",
   "execution_count": 6,
   "id": "decd0ae7-01ae-45bf-81b9-649a0baec03d",
   "metadata": {},
   "outputs": [
    {
     "name": "stdout",
     "output_type": "stream",
     "text": [
      "30\n"
     ]
    }
   ],
   "source": [
    "print(a)"
   ]
  },
  {
   "cell_type": "code",
   "execution_count": 8,
   "id": "89a21a13-11df-4324-9bef-ec299feb51ce",
   "metadata": {},
   "outputs": [],
   "source": [
    "result = 'positive' if a >= 0 else 'negative'"
   ]
  },
  {
   "cell_type": "code",
   "execution_count": 9,
   "id": "ebc5d68c-cc6f-44a1-a7af-00c3fcdfad98",
   "metadata": {},
   "outputs": [
    {
     "name": "stdout",
     "output_type": "stream",
     "text": [
      "positive\n"
     ]
    }
   ],
   "source": [
    "print(result)"
   ]
  },
  {
   "cell_type": "code",
   "execution_count": 11,
   "id": "98b54f3b-2d29-4335-980f-707e94dc586b",
   "metadata": {},
   "outputs": [
    {
     "name": "stdout",
     "output_type": "stream",
     "text": [
      "9\n"
     ]
    }
   ],
   "source": [
    "txt = 'jamesbond'\n",
    "print(len(txt))"
   ]
  },
  {
   "cell_type": "code",
   "execution_count": 19,
   "id": "ef80a174-e3b5-4711-998b-78ea00d7be85",
   "metadata": {},
   "outputs": [
    {
     "name": "stdin",
     "output_type": "stream",
     "text": [
      "input number: 3\n"
     ]
    }
   ],
   "source": [
    "a = input('input number:')"
   ]
  },
  {
   "cell_type": "code",
   "execution_count": 20,
   "id": "b5d0b0ef-93f9-41ae-be25-b8188261861c",
   "metadata": {},
   "outputs": [
    {
     "data": {
      "text/plain": [
       "str"
      ]
     },
     "execution_count": 20,
     "metadata": {},
     "output_type": "execute_result"
    }
   ],
   "source": [
    "type(a)"
   ]
  },
  {
   "cell_type": "code",
   "execution_count": 22,
   "id": "623464f8-5d1e-4d2d-adca-0b24e4398166",
   "metadata": {},
   "outputs": [
    {
     "name": "stdin",
     "output_type": "stream",
     "text": [
      " james bond \n",
      " 130\n",
      " 990\n"
     ]
    }
   ],
   "source": [
    "name = input()\n",
    "age = input()\n",
    "height = input()\n",
    "info = f'name:{name}, age:{age}, height:{height}'\n"
   ]
  },
  {
   "cell_type": "code",
   "execution_count": 23,
   "id": "d7276892-a7d1-473e-97c0-d9f637ac8baa",
   "metadata": {},
   "outputs": [
    {
     "name": "stdout",
     "output_type": "stream",
     "text": [
      "name:james bond , age:130, height:990\n"
     ]
    }
   ],
   "source": [
    "print(info)"
   ]
  },
  {
   "cell_type": "code",
   "execution_count": 17,
   "id": "5bbacd5a-ba1c-41cc-886e-2b238f5c8cbb",
   "metadata": {},
   "outputs": [
    {
     "name": "stdout",
     "output_type": "stream",
     "text": [
      "[10, 20, 30, 11, 23, 32]\n"
     ]
    }
   ],
   "source": [
    "ages = [10, 20, 30, 11, 23, 32]\n",
    "print(ages)"
   ]
  },
  {
   "cell_type": "code",
   "execution_count": 18,
   "id": "15e10b66-1bfc-4861-a17a-2d2bb533e42a",
   "metadata": {},
   "outputs": [
    {
     "data": {
      "text/plain": [
       "1"
      ]
     },
     "execution_count": 18,
     "metadata": {},
     "output_type": "execute_result"
    }
   ],
   "source": [
    "ages.count(11)"
   ]
  },
  {
   "cell_type": "code",
   "execution_count": 4,
   "id": "66424b5a-11a0-4e5d-ad76-a5516ab0da36",
   "metadata": {},
   "outputs": [
    {
     "data": {
      "text/plain": [
       "True"
      ]
     },
     "execution_count": 4,
     "metadata": {},
     "output_type": "execute_result"
    }
   ],
   "source": [
    "32 in ages"
   ]
  },
  {
   "cell_type": "code",
   "execution_count": 5,
   "id": "7d049684-6311-4319-86db-615c2f8240ac",
   "metadata": {},
   "outputs": [
    {
     "data": {
      "text/plain": [
       "6"
      ]
     },
     "execution_count": 5,
     "metadata": {},
     "output_type": "execute_result"
    }
   ],
   "source": [
    "len(ages)"
   ]
  },
  {
   "cell_type": "code",
   "execution_count": 7,
   "id": "ea129202-1cd8-49b3-86ce-dfd714b49743",
   "metadata": {},
   "outputs": [],
   "source": [
    "ages.append([500,3252525])"
   ]
  },
  {
   "cell_type": "code",
   "execution_count": 9,
   "id": "730d1e48-6e39-4559-9b05-b864bc71cf35",
   "metadata": {},
   "outputs": [],
   "source": [
    "ages.append(1)"
   ]
  },
  {
   "cell_type": "code",
   "execution_count": 11,
   "id": "6d2d54b7-35a4-4926-9b33-ddafac290160",
   "metadata": {},
   "outputs": [],
   "source": [
    "ages.remove([500,3252525])"
   ]
  },
  {
   "cell_type": "code",
   "execution_count": 15,
   "id": "8618118e-defb-4018-9110-9b8c3ea23f07",
   "metadata": {},
   "outputs": [],
   "source": [
    "ages.clear()"
   ]
  },
  {
   "cell_type": "code",
   "execution_count": 16,
   "id": "4ad3f53d-a9cd-4dc8-9b38-9850f9b70697",
   "metadata": {},
   "outputs": [
    {
     "data": {
      "text/plain": [
       "[]"
      ]
     },
     "execution_count": 16,
     "metadata": {},
     "output_type": "execute_result"
    }
   ],
   "source": [
    "ages"
   ]
  },
  {
   "cell_type": "code",
   "execution_count": null,
   "id": "a7eaddd4-5f0d-4ded-b869-97c58f2deab7",
   "metadata": {},
   "outputs": [],
   "source": []
  }
 ],
 "metadata": {
  "kernelspec": {
   "display_name": "Python 3 (ipykernel)",
   "language": "python",
   "name": "python3"
  },
  "language_info": {
   "codemirror_mode": {
    "name": "ipython",
    "version": 3
   },
   "file_extension": ".py",
   "mimetype": "text/x-python",
   "name": "python",
   "nbconvert_exporter": "python",
   "pygments_lexer": "ipython3",
   "version": "3.11.5"
  }
 },
 "nbformat": 4,
 "nbformat_minor": 5
}
