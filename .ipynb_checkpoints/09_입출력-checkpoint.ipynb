{
 "cells": [
  {
   "cell_type": "markdown",
   "metadata": {
    "slideshow": {
     "slide_type": "slide"
    }
   },
   "source": [
    "# Path (경로)\n",
    "\n",
    "- **경로(Path)**\n",
    "    - 프로그램에서 사용할 **자원의 위치를 path(경로)** 라고 한다.\n",
    "    - **파일 시스템**에서는 파일이나 디렉토리가 있는 위치의 경로를 말한다.\n",
    "    "
   ]
  },
  {
   "cell_type": "markdown",
   "metadata": {
    "slideshow": {
     "slide_type": "slide"
    }
   },
   "source": [
    "- **절대경로**\n",
    "    - 자원의 전체 경로를 표현하는 방식\n",
    "    - 시작 경로부터 자원(파일, 디렉토리)이 있는 위치까지 표현한다.\n",
    "        - 시작 경로: Root Path\n",
    "            - windows: `c:`, `d:`\n",
    "            - Unix, Linux: `/`"
   ]
  },
  {
   "cell_type": "markdown",
   "metadata": {
    "slideshow": {
     "slide_type": "fragment"
    }
   },
   "source": [
    "- **상대경로**\n",
    "    - 현재 작업 경로(위치)에서 부터 자원이 있는 위치까지 표현한다.\n",
    "        - 시작 경로: 현재 작업경로\n",
    "    - 구문\n",
    "        - `.` : 현재 디렉토리      ./\n",
    "        - `..`: 상위 디렉토리\n",
    "        - `/` : 경로 구분자,  상위경로/하위경로"
   ]
  },
  {
   "cell_type": "markdown",
   "metadata": {
    "slideshow": {
     "slide_type": "fragment"
    }
   },
   "source": [
    "- 운영체제(O/S)별 경로구분자\n",
    "    - 윈도우즈: `\\` (역슬래쉬)\n",
    "    - 리눅스/유닉스: `/` (슬래쉬)"
   ]
  },
  {
   "cell_type": "code",
   "execution_count": 2,
   "metadata": {
    "slideshow": {
     "slide_type": "fragment"
    }
   },
   "outputs": [
    {
     "name": "stdout",
     "output_type": "stream",
     "text": [
      "C:\\Classes\\DA-35\\01_Python\n",
      "C:\\Classes\\DA-35\\01_Python\n"
     ]
    }
   ],
   "source": [
    "# 파이썬 - 현재 작업 경로(위치) 조회\n",
    "import os\n",
    "print(os.getcwd())\n",
    "d = os.getcwd()\n",
    "print(d)\n"
   ]
  },
  {
   "cell_type": "code",
   "execution_count": 4,
   "metadata": {},
   "outputs": [],
   "source": [
    "# 현재작업경로 변경\n",
    "os.chdir(\"C:\\\\temp\")"
   ]
  },
  {
   "cell_type": "code",
   "execution_count": 5,
   "metadata": {},
   "outputs": [
    {
     "data": {
      "text/plain": [
       "'C:\\\\temp'"
      ]
     },
     "execution_count": 5,
     "metadata": {},
     "output_type": "execute_result"
    }
   ],
   "source": [
    "os.getcwd()"
   ]
  },
  {
   "cell_type": "code",
   "execution_count": 6,
   "metadata": {},
   "outputs": [
    {
     "data": {
      "text/plain": [
       "'C:\\\\Classes\\\\DA-35\\\\01_Python'"
      ]
     },
     "execution_count": 6,
     "metadata": {},
     "output_type": "execute_result"
    }
   ],
   "source": [
    "os.chdir(d)\n",
    "os.getcwd()"
   ]
  },
  {
   "cell_type": "markdown",
   "metadata": {
    "slideshow": {
     "slide_type": "slide"
    }
   },
   "source": [
    "# 입출력 (IO)\n",
    "\n",
    "## 입출력이란\n",
    "- 프로그램이 사용하려는 외부 자원을 연결하여 데이터를 입력 받거나 출력하는 작업을 IO라고 한다.\n",
    "- 외부 자원\n",
    "    - 파일, 원격지 컴퓨터(Network으로 연결된 컴퓨터의 자원), 데이터베이스 등.\n",
    "- **Stream**\n",
    "    - 입출력 시 **데이터의 흐름을 stream** 이라고 한다.\n",
    "- InputStream \n",
    "    - Program이 외부로 부터 데이터를 읽어 들이는 흐름.\n",
    "    - 값을 프로그램 외부에서 받아오겠다. \n",
    "- OutputStream \n",
    "    - Program이 외부로 데이터를 써주는 흐름.\n",
    "\n",
    "\n",
    "![io](images/ch09_01.png)"
   ]
  },
  {
   "cell_type": "markdown",
   "metadata": {
    "slideshow": {
     "slide_type": "subslide"
    }
   },
   "source": [
    "## IO 코딩 순서\n",
    "![순서](images/ch09_02.png)"
   ]
  },
  {
   "cell_type": "markdown",
   "metadata": {
    "slideshow": {
     "slide_type": "subslide"
    }
   },
   "source": [
    "### 파일 열기(연결)\n",
    "- open() 함수 사용\n",
    "    - 연결된 파일과 입출력 메소드를 제공하는 객체(Stream)를 리턴\n",
    "- 구문\n",
    "    - `open(file, mode='r', encoding=None)`\n",
    "    - 함수 주요 매개변수\n",
    "        - file : 연결할 파일 경로\n",
    "        - mode : 열기 모드\n",
    "            - mode는 목적, 데이터종류를 조합한 문자열을 사용한다.\n",
    "        - encoding \n",
    "            - 입출력 대상이 **텍스트 파일일 경우** 인코딩 방식 설정\n",
    "            - 생략하면  **os 기본 encoding방식을 따른다.**\n",
    "                - Windows: cp949/euckr\n",
    "                - Linux, Unix: utf-8\n",
    "|mode타입|mode문자|설명|\n",
    "|:-|-|-|\n",
    "|목적|r|읽기 모드-목적의 기본 모드|\n",
    "||w|새로 쓰기 모드|\n",
    "||a|이어 쓰기 모드|\n",
    "||x|새로 쓰기모드-연결하려는 파일이 있으면 Exception발생|\n",
    "|데이터종류|b|binary 모드|\n",
    "||t|Text모드-text데이터 입출력시 사용|\n",
    "    "
   ]
  },
  {
   "cell_type": "code",
   "execution_count": 4,
   "metadata": {
    "tags": []
   },
   "outputs": [],
   "source": [
    "# 파일을 저장할 디렉토리 \n",
    "import os \n",
    "os.makedirs(\"text_file\", exist_ok=True)  # 만들 디렉토리 경로. (현재 디렉토리 아래-상대경로)"
   ]
  },
  {
   "cell_type": "code",
   "execution_count": 6,
   "metadata": {
    "tags": []
   },
   "outputs": [],
   "source": [
    "# 연결\n",
    "fw = open(\"text_file/read.txt\",    # 연결할 파일의 경로.\n",
    "               \"wt\",                     # 연결모드 -> 연결목적.\n",
    "               encoding=\"utf-8\"\n",
    "         )"
   ]
  },
  {
   "cell_type": "code",
   "execution_count": 8,
   "metadata": {
    "tags": []
   },
   "outputs": [
    {
     "name": "stdout",
     "output_type": "stream",
     "text": [
      "<class '_io.TextIOWrapper'>\n"
     ]
    }
   ],
   "source": [
    "print(type(fw))"
   ]
  },
  {
   "cell_type": "code",
   "execution_count": 10,
   "metadata": {
    "tags": []
   },
   "outputs": [
    {
     "data": {
      "text/plain": [
       "8"
      ]
     },
     "execution_count": 10,
     "metadata": {},
     "output_type": "execute_result"
    }
   ],
   "source": [
    "# 출력\n",
    "fw.write(\"안녕하세요.\\n\")\n",
    "fw.flush()\n",
    "fw.write(\"주말 잘 보네세요.\\n\")\n",
    "fw.write(\"월요일에 뵈요.\")\n",
    "\n",
    "# 버퍼.. 메모리에 모아놓고 close 시에 한번에 출력해준다. \n",
    "# 나는 바로바로 출력됬으면 좋겠어.. 하면 버퍼에 있는 내용을 내보내라! flush()\n",
    "# 채팅같은 경우 flush()를 써야할 수 있음"
   ]
  },
  {
   "cell_type": "code",
   "execution_count": 12,
   "metadata": {
    "tags": []
   },
   "outputs": [],
   "source": [
    "# 연결을 닫기\n",
    "fw.close()"
   ]
  },
  {
   "cell_type": "code",
   "execution_count": 14,
   "metadata": {},
   "outputs": [],
   "source": [
    "##  입력 - 읽기\n",
    "# 연결\n",
    "fr = open(\"text_file\\\\read.txt\", \"rt\", encoding=\"utf-8\")"
   ]
  },
  {
   "cell_type": "code",
   "execution_count": 15,
   "metadata": {},
   "outputs": [],
   "source": [
    "# 입력\n",
    "txt = fr.read()"
   ]
  },
  {
   "cell_type": "code",
   "execution_count": 16,
   "metadata": {},
   "outputs": [],
   "source": [
    "# 연결 닫기\n",
    "fr.close()"
   ]
  },
  {
   "cell_type": "code",
   "execution_count": 17,
   "metadata": {},
   "outputs": [
    {
     "name": "stdout",
     "output_type": "stream",
     "text": [
      "안녕하세요.\n",
      "주말 잘 보네세요.\n",
      "월요일에 뵈요.\n"
     ]
    }
   ],
   "source": [
    "print(txt)"
   ]
  },
  {
   "cell_type": "markdown",
   "metadata": {
    "slideshow": {
     "slide_type": "subslide"
    },
    "tags": []
   },
   "source": [
    "### 출력 메소드\n",
    "\n",
    "- write(출력할 Data)\n",
    "    - 연결된 파일에 `출력할 Data` 출력한다.\n",
    "- writelines(문자열을 가진 컬렉션)\n",
    "    - 리스트, 튜플, 집합이 원소로 가진 문자열들을 한번에 출력한다.\n",
    "    - text 출력일 경우에만 사용가능.\n",
    "    - 원소에 문자열 이외의 타입의 값이 있을 경우 TypeError 발생"
   ]
  },
  {
   "cell_type": "code",
   "execution_count": 24,
   "metadata": {
    "slideshow": {
     "slide_type": "fragment"
    },
    "tags": []
   },
   "outputs": [],
   "source": [
    "fw = open('text_file/text.txt', \"wt\", encoding = 'utf-8') # 파일 만들기"
   ]
  },
  {
   "cell_type": "code",
   "execution_count": 26,
   "metadata": {
    "tags": []
   },
   "outputs": [],
   "source": [
    "strings = ['    - 리스트, 튜플, 집합이 원소로 가진 문자열들을 한번에 출력한다.\\n',\n",
    "           'text 출력일 경우에만 사용가능\\n',\n",
    "           '원소에 문자열 이외의 타입 경우 TypeError발생'\n",
    "          ]\n",
    "for s in strings: \n",
    "    fw.write(s)\n",
    "fw.close()"
   ]
  },
  {
   "cell_type": "code",
   "execution_count": 30,
   "metadata": {
    "tags": []
   },
   "outputs": [],
   "source": [
    "fw = open('text_file/text2.txt', \"wt\", encoding = 'utf-8') # 파일 만들기\n",
    "strings = ['    - 리스트, 튜플, 집합이 원소로 가진 문자열들을 한번에 출력한다.\\n',\n",
    "           'text 출력일 경우에만 사용가능\\n',\n",
    "           '원소에 문자열 이외의 타입 경우 TypeError발생'\n",
    "          ]\n",
    "fw.writelines(strings)\n",
    "fw.close()"
   ]
  },
  {
   "cell_type": "code",
   "execution_count": null,
   "metadata": {},
   "outputs": [],
   "source": []
  },
  {
   "cell_type": "markdown",
   "metadata": {
    "slideshow": {
     "slide_type": "slide"
    }
   },
   "source": [
    "### 입력 메소드\n",
    "- read() : 문자열(text mode), bytes(binary mode) \n",
    "    - 연결된 파일의 내용을 한번에 모두 읽어 들인다.\n",
    "- readline() : 문자열(text mode), bytes(binary mode)\n",
    "    - 한 줄만 읽는다.\n",
    "    - text 입력일 경우만 사용가능\n",
    "    - 읽은 라인이 없으면 **빈문자열**을 리턴한다.\n",
    "- readlines() : 리스트\n",
    "    - 한번에 다 읽은 뒤 각각의 라인을 리스트에 원소로 담아 반환한다.\n",
    "- Text Input Stream (TextIOWrapper, BufferedReader)은 Iterable 타입.\n",
    "    - for문을 이용한 라인단위 순차 조회할 수 있다."
   ]
  },
  {
   "cell_type": "code",
   "execution_count": 38,
   "metadata": {
    "slideshow": {
     "slide_type": "fragment"
    },
    "tags": []
   },
   "outputs": [
    {
     "name": "stdout",
     "output_type": "stream",
     "text": [
      "    - 리스트, 튜플, 집합이 원소로 가진 문자열들을 한번에 출력한다.\n",
      "text 출력일 경우에만 사용가능\n",
      "원소에 문자열 이외의 타입 경우 TypeError발생\n"
     ]
    }
   ],
   "source": [
    "fr = open(\"text_file/text.txt\",'rt', encoding='utf-8')\n",
    "txt = fr.read() # 전체를 다 읽어온다 \n",
    "fr.close()\n",
    "print(txt)`"
   ]
  },
  {
   "cell_type": "code",
   "execution_count": 48,
   "metadata": {
    "tags": []
   },
   "outputs": [
    {
     "name": "stdout",
     "output_type": "stream",
     "text": [
      "    - 리스트, 튜플, 집합이 원소로 가진 문자열들을 한번에 출력한다.\n",
      "\n",
      "text 출력일 경우에만 사용가능\n",
      "\n",
      "원소에 문자열 이외의 타입 경우 TypeError발생\n",
      "\n"
     ]
    }
   ],
   "source": [
    "fr = open(\"text_file/text.txt\",'rt', encoding='utf-8')\n",
    "txt = fr.readline() #한줄만 읽는다.\n",
    "print(txt)\n",
    "print(fr.readline())\n",
    "print(fr.readline())\n",
    "print(fr.readline()) # (End of File.. EOF 일 경우 빈 문자열 반환)\n",
    "fr.close()\n"
   ]
  },
  {
   "cell_type": "code",
   "execution_count": 52,
   "metadata": {
    "tags": []
   },
   "outputs": [
    {
     "name": "stdout",
     "output_type": "stream",
     "text": [
      "3\n",
      "['    - 리스트, 튜플, 집합이 원소로 가진 문자열들을 한번에 출력한다.\\n', 'text 출력일 경우에만 사용가능\\n', '원소에 문자열 이외의 타입 경우 TypeError발생']\n"
     ]
    }
   ],
   "source": [
    "fr = open('text_file/text.txt', 'rt', encoding = 'utf-8')\n",
    "s =fr.readlines() # 전체를 다 읽는다. 라인단위로 끊어서 리스트에 담아서 반환 \n",
    "fr.close()\n",
    "print(len(s))\n",
    "print(s)"
   ]
  },
  {
   "cell_type": "code",
   "execution_count": 56,
   "metadata": {
    "tags": []
   },
   "outputs": [
    {
     "name": "stdout",
     "output_type": "stream",
     "text": [
      "    - 리스트, 튜플, 집합이 원소로 가진 문자열들을 한번에 출력한다.\n",
      "\n",
      "text 출력일 경우에만 사용가능\n",
      "\n",
      "원소에 문자열 이외의 타입 경우 TypeError발생\n"
     ]
    }
   ],
   "source": [
    "type(fr) #  textiowrapper는 이터러블 타입\n",
    "fr = open('text_file/text.txt', 'rt', encoding = 'utf-8')\n",
    "for line in fr:\n",
    "    print(line)"
   ]
  },
  {
   "cell_type": "code",
   "execution_count": 66,
   "metadata": {
    "tags": []
   },
   "outputs": [
    {
     "name": "stdout",
     "output_type": "stream",
     "text": [
      "1. - 리스트, 튜플, 집합이 원소로 가진 문자열들을 한번에 출력한다.\n",
      "2. text 출력일 경우에만 사용가능\n",
      "3. 원소에 문자열 이외의 타입 경우 TypeError발생\n"
     ]
    }
   ],
   "source": [
    "type(fr) #  textiowrapper는 이터러블 타입\n",
    "fr = open('text_file/text.txt', 'rt', encoding = 'utf-8')\n",
    "for line, text in enumerate(fr, start=1):\n",
    "    print(f'{line}. {text.strip()}') #문자열 strip() : 좌우 공백문자를 제거. (\" \", \\t, \\n)\n",
    "fr.close()\n",
    "    "
   ]
  },
  {
   "cell_type": "markdown",
   "metadata": {
    "slideshow": {
     "slide_type": "slide"
    }
   },
   "source": [
    "## with block\n",
    "\n",
    "파일과 입출력 작업이 다 끝나면 반드시 연결을 닫아야 한다. 매번 연결을 닫는 작업을 하는 것이 번거롭고 실수로 안 닫을 경우 문제가 생길 수 있다. **with block은 block을 벗어나면 자동으로 연결을 닫아 준다.** 그래서 연결을 닫는 코드를 생략할 수 있다.\n",
    "\n",
    "- 구문\n",
    "```python\n",
    "with open() as 변수: # `변수`는 open()이 반환하는 Stream객체를 참조한다.\n",
    "    입출력 작업      # 변수를 이용해 입출력 작업을 처리한다.\n",
    "# with block을 빠져 나오면 close()가 자동으로 실행된다.\n",
    "```"
   ]
  },
  {
   "cell_type": "code",
   "execution_count": 99,
   "metadata": {
    "slideshow": {
     "slide_type": "fragment"
    },
    "tags": []
   },
   "outputs": [
    {
     "name": "stdout",
     "output_type": "stream",
     "text": [
      "0. - 리스트, 튜플, 집합이 원소로 가진 문자열들을 한번에 출력한다.\n",
      "1. text 출력일 경우에만 사용가능\n",
      "2. 원소에 문자열 이외의 타입 경우 TypeError발생\n",
      "종료 = with block 나올 때 fr.close()를 자동으로 실행(연결 닫기)\n"
     ]
    }
   ],
   "source": [
    "#fr = open()\n",
    "with open(\"text_file/text.txt\", \"rt\", encoding ='utf-8') as fr:  # 이거 실행한 값을 fr에 넣어줘. 변수와 open함수 위치를 바꾼거\n",
    "    #입출력 작업 \n",
    "    for line, s in enumerate(fr):\n",
    "        print(f\"{line}. {s.strip()}\")\n",
    "\n",
    "print(\"종료 = with block 나올 때 fr.close()를 자동으로 실행(연결 닫기)\")"
   ]
  },
  {
   "cell_type": "code",
   "execution_count": 93,
   "metadata": {
    "tags": []
   },
   "outputs": [
    {
     "data": {
      "text/plain": [
       "True"
      ]
     },
     "execution_count": 93,
     "metadata": {},
     "output_type": "execute_result"
    }
   ],
   "source": [
    "fr.closed # 연결 끊겼니 물어보는 작업"
   ]
  },
  {
   "cell_type": "code",
   "execution_count": 95,
   "metadata": {
    "tags": []
   },
   "outputs": [
    {
     "name": "stdout",
     "output_type": "stream",
     "text": [
      "True\n"
     ]
    }
   ],
   "source": [
    "print(fr.closed)"
   ]
  },
  {
   "cell_type": "code",
   "execution_count": 106,
   "metadata": {
    "tags": []
   },
   "outputs": [
    {
     "name": "stdout",
     "output_type": "stream",
     "text": [
      "완료\n"
     ]
    }
   ],
   "source": [
    "with open(\"text_file/my_text.txt\", \"wt\", encoding = 'utf-8') as fw: \n",
    "    fw.write('111111\\n')\n",
    "    fw.write('222222')\n",
    "    fw.write('33333333')\n",
    "    \n",
    "print('완료')"
   ]
  },
  {
   "cell_type": "markdown",
   "metadata": {},
   "source": [
    "# Binary Data 입출력\n",
    "\n",
    "## `bytes` type\n",
    "binary 데이터를 입출력하기 위한 타입.  \n",
    "파이썬의 하나의 출력함수로 다양한 데이터타입의 값을 출력하기 위해 **bytes 타입으로 변환** 해야 한다. \n",
    "또 binary 데이터를 읽을 경우 **bytes 타입**으로 반환한다. 이것을 저장 전 원래 타입으로 쓰기 위해서는 bytes에서 원래 타입으로 변환하는 작업이 필요하다.   "
   ]
  },
  {
   "cell_type": "markdown",
   "metadata": {
    "slideshow": {
     "slide_type": "slide"
    }
   },
   "source": [
    "## pickle 모듈을 이용한 객체 직렬화\n",
    "- pickle 모듈: binary data 입출력을 도와주는 표준 라이브러리.\n",
    "\n",
    "### 객체 직렬화(Object Serialization)\n",
    "- 객체의 속성값들을 bytes로 변환해 출력하는 것을 객체 직렬화(Object Serialization) 이라고 한다.\n",
    "- bytes로 출력된 데이터를 읽어 객체화 하는 것을 객체 역직렬화(Object Deserialization) 이라고 한다."
   ]
  },
  {
   "cell_type": "markdown",
   "metadata": {
    "slideshow": {
     "slide_type": "fragment"
    }
   },
   "source": [
    "### pickle 모듈\n",
    "- binary 모드로 출력하거나 입력받을 경우 **bytes**  타입으로 입출력을 진행한다.\n",
    "    - 그런데 각각의 타입이 변환하는 방식이 다르기때문에 입출력 코드가 복잡해 지는 문제가 있다. 이것을 추상화해서 binary 데이터 입출력을 쉽게 처리할 수 있게하는 표준모듈이 pickle이다.\n",
    "    - 파이썬의 모든 값은 객체 이므로 pickle은 객체 직렬화, 역직렬화를 위한 파이썬 표준모듈이다.\n",
    "\n",
    "- 저장시 파일 확장자는 보통 `pkl` 이나 `pickle` 로 한다.\n",
    "- ex)\n",
    "```python\n",
    "#### binary mode로 설정한다.\n",
    "fw = open(\"data.pkl\", \"wb\") # 객체를 pickle에 저장하기 위한 output stream 생성\n",
    "fr = open(\"data.pkl\", \"rb\") # 파일에 저장된 객체를 읽어오기 위한 input stream 생성\n",
    "```\n",
    "- **메소드**\n",
    "    - dump(저장할 객체, fw) : 출력\n",
    "    - load(fr): 입력 - 읽은 객체를 반환한다."
   ]
  },
  {
   "cell_type": "code",
   "execution_count": 113,
   "metadata": {
    "slideshow": {
     "slide_type": "fragment"
    },
    "tags": []
   },
   "outputs": [],
   "source": [
    "import pickle \n",
    "data = 3000\n",
    "# 저장(출력)\n",
    "with open(\"text_file/data.pickle\", \"wb\") as fo:  # mode: binary(b)로 지정.\n",
    "    pickle.dump(data, fo)"
   ]
  },
  {
   "cell_type": "code",
   "execution_count": 115,
   "metadata": {
    "tags": []
   },
   "outputs": [
    {
     "name": "stdout",
     "output_type": "stream",
     "text": [
      "<class 'int'> 3000\n"
     ]
    }
   ],
   "source": [
    "# 읽기(입력)\n",
    "with open(\"text_file/data.pickle\", \"rb\") as fi:\n",
    "    load_data = pickle.load(fi)\n",
    "print(type(load_data),load_data)\n"
   ]
  },
  {
   "cell_type": "code",
   "execution_count": 129,
   "metadata": {
    "tags": []
   },
   "outputs": [],
   "source": [
    "class Person:\n",
    "    def __init__(self,name,age,height):\n",
    "        self.name = name\n",
    "        self.age = age\n",
    "        self.height = height\n",
    "    def __str__(self):\n",
    "        return f\"{self.name}, {self.age}, {self.height}\" # self 안붙이면 로컬변수 없다고 에러나는것같음"
   ]
  },
  {
   "cell_type": "code",
   "execution_count": 131,
   "metadata": {
    "tags": []
   },
   "outputs": [],
   "source": [
    "p = Person(\"이순신\",30,185.32)\n",
    "with open(\"text_file/person.pickle\", \"wb\") as fo:\n",
    "    pickle.dump(p, fo) # p값을 저장할건데 fo를 통해서 할겁니다. \n"
   ]
  },
  {
   "cell_type": "code",
   "execution_count": 133,
   "metadata": {
    "tags": []
   },
   "outputs": [
    {
     "name": "stdout",
     "output_type": "stream",
     "text": [
      "이순신, 30, 185.32\n"
     ]
    }
   ],
   "source": [
    "with open(\"text_file/person.pickle\", \"rb\") as fi:\n",
    "    load_p = pickle.load(fi)\n",
    "print(load_p)"
   ]
  },
  {
   "cell_type": "markdown",
   "metadata": {
    "slideshow": {
     "slide_type": "skip"
    }
   },
   "source": [
    "# TODO"
   ]
  },
  {
   "cell_type": "markdown",
   "metadata": {
    "slideshow": {
     "slide_type": "skip"
    }
   },
   "source": [
    "- ## 간단한 CLI 기반 메모장\n",
    "    1. 사용자로부터 파일명을 입력받는다.\n",
    "    2. 사용자로부터 파일에 저장할 문장을 입력받아서 파일에 저장한다.\n",
    "        - 한줄씩 입력받는다.\n",
    "        - 사용자가 !q 를 입력하면 저장후 종료한다.\n",
    "    3. 사용자가 저장한 파일을 읽어서 출력한다.\n"
   ]
  },
  {
   "cell_type": "code",
   "execution_count": 59,
   "metadata": {
    "slideshow": {
     "slide_type": "skip"
    }
   },
   "outputs": [],
   "source": [
    "def my_memo():\n",
    "    #a=input(\"파일명을 입력하세요.\")\n",
    "    with open(f'text_file/{input(\"파일명을 입력하세요\")}.txt',\"wt\",encoding = 'utf-8')as me:\n",
    "        for c in me:\n",
    "            if input(c) == '!q':\n",
    "                me.close()\n",
    "            if input(c) != '!q':\n",
    "                me.write((input))\n",
    "            else:\n",
    "                pass\n",
    "                "
   ]
  },
  {
   "cell_type": "code",
   "execution_count": 60,
   "metadata": {},
   "outputs": [
    {
     "name": "stdin",
     "output_type": "stream",
     "text": [
      "파일명을 입력하세요 file\n"
     ]
    },
    {
     "ename": "UnsupportedOperation",
     "evalue": "not readable",
     "output_type": "error",
     "traceback": [
      "\u001b[1;31m---------------------------------------------------------------------------\u001b[0m",
      "\u001b[1;31mUnsupportedOperation\u001b[0m                      Traceback (most recent call last)",
      "Cell \u001b[1;32mIn[60], line 1\u001b[0m\n\u001b[1;32m----> 1\u001b[0m \u001b[43mmy_memo\u001b[49m\u001b[43m(\u001b[49m\u001b[43m)\u001b[49m\n",
      "Cell \u001b[1;32mIn[59], line 4\u001b[0m, in \u001b[0;36mmy_memo\u001b[1;34m()\u001b[0m\n\u001b[0;32m      1\u001b[0m \u001b[38;5;28;01mdef\u001b[39;00m \u001b[38;5;21mmy_memo\u001b[39m():\n\u001b[0;32m      2\u001b[0m     \u001b[38;5;66;03m#a=input(\"파일명을 입력하세요.\")\u001b[39;00m\n\u001b[0;32m      3\u001b[0m     \u001b[38;5;28;01mwith\u001b[39;00m \u001b[38;5;28mopen\u001b[39m(\u001b[38;5;124mf\u001b[39m\u001b[38;5;124m'\u001b[39m\u001b[38;5;124mtext_file/\u001b[39m\u001b[38;5;132;01m{\u001b[39;00m\u001b[38;5;28minput\u001b[39m(\u001b[38;5;124m\"\u001b[39m\u001b[38;5;124m파일명을 입력하세요\u001b[39m\u001b[38;5;124m\"\u001b[39m)\u001b[38;5;132;01m}\u001b[39;00m\u001b[38;5;124m.txt\u001b[39m\u001b[38;5;124m'\u001b[39m,\u001b[38;5;124m\"\u001b[39m\u001b[38;5;124mwt\u001b[39m\u001b[38;5;124m\"\u001b[39m,encoding \u001b[38;5;241m=\u001b[39m \u001b[38;5;124m'\u001b[39m\u001b[38;5;124mutf-8\u001b[39m\u001b[38;5;124m'\u001b[39m)\u001b[38;5;28;01mas\u001b[39;00m me:\n\u001b[1;32m----> 4\u001b[0m \u001b[43m        \u001b[49m\u001b[38;5;28;43;01mfor\u001b[39;49;00m\u001b[43m \u001b[49m\u001b[43mc\u001b[49m\u001b[43m \u001b[49m\u001b[38;5;129;43;01min\u001b[39;49;00m\u001b[43m \u001b[49m\u001b[43mme\u001b[49m\u001b[43m:\u001b[49m\n\u001b[0;32m      5\u001b[0m \u001b[43m            \u001b[49m\u001b[38;5;28;43;01mif\u001b[39;49;00m\u001b[43m \u001b[49m\u001b[38;5;28;43minput\u001b[39;49m\u001b[43m(\u001b[49m\u001b[43mc\u001b[49m\u001b[43m)\u001b[49m\u001b[43m \u001b[49m\u001b[38;5;241;43m==\u001b[39;49m\u001b[43m \u001b[49m\u001b[38;5;124;43m'\u001b[39;49m\u001b[38;5;124;43m!q\u001b[39;49m\u001b[38;5;124;43m'\u001b[39;49m\u001b[43m:\u001b[49m\n\u001b[0;32m      6\u001b[0m \u001b[43m                \u001b[49m\u001b[43mme\u001b[49m\u001b[38;5;241;43m.\u001b[39;49m\u001b[43mclose\u001b[49m\u001b[43m(\u001b[49m\u001b[43m)\u001b[49m\n",
      "\u001b[1;31mUnsupportedOperation\u001b[0m: not readable"
     ]
    }
   ],
   "source": [
    "\n",
    "my_memo()\n"
   ]
  },
  {
   "cell_type": "code",
   "execution_count": 65,
   "metadata": {},
   "outputs": [
    {
     "name": "stdout",
     "output_type": "stream",
     "text": [
      "저장할 파일의 이름을 입력하세요:\n"
     ]
    },
    {
     "name": "stdin",
     "output_type": "stream",
     "text": [
      "파일명: asdf.txt\n"
     ]
    },
    {
     "name": "stdout",
     "output_type": "stream",
     "text": [
      "파일에 저장할 내용을 한줄씩 입력하세요\n"
     ]
    },
    {
     "name": "stdin",
     "output_type": "stream",
     "text": [
      ">>> 123\n",
      ">>> 456\n",
      ">>> 789\n",
      ">>> !q\n"
     ]
    }
   ],
   "source": [
    "# 파일들을 저장할 디렉토리\n",
    "import os\n",
    "os.makedirs(\"save_files\",exist_ok=True)\n",
    "\n",
    "# 파일명 입력받기\n",
    "print(\"저장할 파일의 이름을 입력하세요:\")\n",
    "file_name = input(\"파일명:\")\n",
    "\n",
    "# 파일과 연결해서 출력 작업\n",
    "## 표준 입력(input) -> p/g -> 파일에 출력\n",
    "with open(\"save_files/\"+file_name, \"wt\", encoding = 'utf-8') as fw:\n",
    "    print(\"파일에 저장할 내용을 한줄씩 입력하세요\")\n",
    "    while True:\n",
    "        # 입력\n",
    "        txt = input(\">>>\")\n",
    "        # !q의 경우 종료\n",
    "        if txt == '!q':\n",
    "            break\n",
    "        fw.write(txt+\"\\n\")\n",
    "    \n",
    "\n",
    "# 처음부터 한번에 모든 걸 만들려고 하니 이해하지 못하는 에러가 계속 발생"
   ]
  },
  {
   "cell_type": "code",
   "execution_count": 68,
   "metadata": {},
   "outputs": [
    {
     "name": "stdout",
     "output_type": "stream",
     "text": [
      "123\n",
      "456\n",
      "789\n",
      "\n"
     ]
    }
   ],
   "source": [
    "# 잘 써졌는지 확인하기 \n",
    "with open(\"save_files/\"+file_name, \"rt\", encoding = 'utf-8') as fw:\n",
    "    print(fw.read())\n"
   ]
  },
  {
   "cell_type": "code",
   "execution_count": 83,
   "metadata": {},
   "outputs": [
    {
     "name": "stdout",
     "output_type": "stream",
     "text": [
      "Writing memo.py\n"
     ]
    }
   ],
   "source": [
    "%%writefile memo.py\n",
    "#모듈화 작업\n",
    "\n",
    "import os\n",
    "def my_memo():\n",
    "    save_dir = 'save_files'\n",
    "    os.makedirs(save_dir,exist_ok=True)\n",
    "    \n",
    "    # 파일명 입력받기\n",
    "    print(\"저장할 파일의 이름을 입력하세요:\")\n",
    "    file_name = input(\"파일명:\")\n",
    "    file_path = os.path.join(save_dir, file_name)\n",
    "    \n",
    "    # 파일과 연결해서 출력 작업\n",
    "    ## 표준 입력(input) -> p/g -> 파일에 출력\n",
    "    with open(file_path, \"wt\", encoding = 'utf-8') as fw:\n",
    "        print(\"파일에 저장할 내용을 한줄씩 입력하세요\")\n",
    "        while True:\n",
    "            # 입력\n",
    "            txt = input(\">>>\")\n",
    "            # !q의 경우 종료\n",
    "            if txt == '!q':\n",
    "                print(\"종료\")\n",
    "                break\n",
    "            fw.write(txt+\"\\n\")\n",
    "if __name__ == \"__main__\":\n",
    "    my_memo()\n",
    "Overwriting memo.py \n",
    "# 실행하는걸로 만들거면.. 메인인지 아닌지 비교하는 조건문 작성해야함"
   ]
  },
  {
   "cell_type": "code",
   "execution_count": 80,
   "metadata": {},
   "outputs": [
    {
     "name": "stdout",
     "output_type": "stream",
     "text": [
      "저장할 파일의 이름을 입력하세요:\n"
     ]
    },
    {
     "name": "stdin",
     "output_type": "stream",
     "text": [
      "파일명: 1\n"
     ]
    },
    {
     "name": "stdout",
     "output_type": "stream",
     "text": [
      "파일에 저장할 내용을 한줄씩 입력하세요\n"
     ]
    },
    {
     "name": "stdin",
     "output_type": "stream",
     "text": [
      ">>> 2\n",
      ">>> 3\n",
      ">>> 4\n",
      ">>> !q\n"
     ]
    },
    {
     "name": "stdout",
     "output_type": "stream",
     "text": [
      "종료\n"
     ]
    }
   ],
   "source": [
    "my_memo()"
   ]
  },
  {
   "cell_type": "code",
   "execution_count": 76,
   "metadata": {},
   "outputs": [],
   "source": [
    "# 경로를 쉽게 만들어주는 메소드\n",
    "s = os.path.join(\"root_dir\",\"sub_dir\",\"sub_dir2\",\"filename.exe\")"
   ]
  },
  {
   "cell_type": "code",
   "execution_count": 75,
   "metadata": {},
   "outputs": [
    {
     "data": {
      "text/plain": [
       "'root_dir\\\\sub_dir\\\\sub_dir2\\\\filename.exe'"
      ]
     },
     "execution_count": 75,
     "metadata": {},
     "output_type": "execute_result"
    }
   ],
   "source": [
    "s "
   ]
  },
  {
   "cell_type": "code",
   "execution_count": 81,
   "metadata": {},
   "outputs": [
    {
     "ename": "ModuleNotFoundError",
     "evalue": "No module named 'memo'",
     "output_type": "error",
     "traceback": [
      "\u001b[1;31m---------------------------------------------------------------------------\u001b[0m",
      "\u001b[1;31mModuleNotFoundError\u001b[0m                       Traceback (most recent call last)",
      "Cell \u001b[1;32mIn[81], line 1\u001b[0m\n\u001b[1;32m----> 1\u001b[0m \u001b[38;5;28;01mfrom\u001b[39;00m \u001b[38;5;21;01mmemo\u001b[39;00m \u001b[38;5;28;01mimport\u001b[39;00m my_memo\n",
      "\u001b[1;31mModuleNotFoundError\u001b[0m: No module named 'memo'"
     ]
    }
   ],
   "source": [
    "from memo import my_memo # 모듈 어떻게 지정하더라 "
   ]
  },
  {
   "cell_type": "code",
   "execution_count": null,
   "metadata": {},
   "outputs": [],
   "source": []
  }
 ],
 "metadata": {
  "kernelspec": {
   "display_name": "Python 3 (ipykernel)",
   "language": "python",
   "name": "python3"
  },
  "language_info": {
   "codemirror_mode": {
    "name": "ipython",
    "version": 3
   },
   "file_extension": ".py",
   "mimetype": "text/x-python",
   "name": "python",
   "nbconvert_exporter": "python",
   "pygments_lexer": "ipython3",
   "version": "3.11.5"
  },
  "toc": {
   "base_numbering": 1,
   "nav_menu": {},
   "number_sections": true,
   "sideBar": true,
   "skip_h1_title": false,
   "title_cell": "Table of Contents",
   "title_sidebar": "Contents",
   "toc_cell": false,
   "toc_position": {},
   "toc_section_display": true,
   "toc_window_display": false
  },
  "varInspector": {
   "cols": {
    "lenName": 16,
    "lenType": 16,
    "lenVar": 40
   },
   "kernels_config": {
    "python": {
     "delete_cmd_postfix": "",
     "delete_cmd_prefix": "del ",
     "library": "var_list.py",
     "varRefreshCmd": "print(var_dic_list())"
    },
    "r": {
     "delete_cmd_postfix": ") ",
     "delete_cmd_prefix": "rm(",
     "library": "var_list.r",
     "varRefreshCmd": "cat(var_dic_list()) "
    }
   },
   "types_to_exclude": [
    "module",
    "function",
    "builtin_function_or_method",
    "instance",
    "_Feature"
   ],
   "window_display": false
  }
 },
 "nbformat": 4,
 "nbformat_minor": 4
}
